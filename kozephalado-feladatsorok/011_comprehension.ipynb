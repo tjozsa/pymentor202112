{
 "cells": [
  {
   "cell_type": "markdown",
   "id": "949b9aa0",
   "metadata": {
    "deletable": false,
    "editable": false,
    "nbgrader": {
     "cell_type": "markdown",
     "checksum": "7106bfe843ef2a08becac5a38acbc3e4",
     "grade": false,
     "grade_id": "cell-7b80c3bb099cfb4c",
     "locked": true,
     "schema_version": 3,
     "solution": false,
     "task": false
    }
   },
   "source": [
    "# 1. feladatsor - Lista származtatás (comprehension)\n",
    "\n",
    "## For ciklus átírás\n",
    "\n",
    "Írd át a következő for ciklust list comprehension formába.\n",
    "\n",
    "```\n",
    "lista = [1, 1, 2, 3, 5, 8, 12]\n",
    "uj_lista = []\n",
    "for i in lista:\n",
    "    uj_lista.append(i ** 2)\n",
    "print(uj_lista)\n",
    "```"
   ]
  },
  {
   "cell_type": "code",
   "execution_count": null,
   "id": "61472f89",
   "metadata": {
    "deletable": false,
    "nbgrader": {
     "cell_type": "code",
     "checksum": "f54eb2d050ea494b0e560975819c5ff9",
     "grade": false,
     "grade_id": "cell-84721ecb4b633c21",
     "locked": false,
     "schema_version": 3,
     "solution": true,
     "task": false
    }
   },
   "outputs": [],
   "source": [
    "lista = [1, 1, 2, 3, 5, 8, 12]\n",
    "# YOUR CODE HERE\n",
    "raise NotImplementedError()\n",
    "print(uj_lista)"
   ]
  },
  {
   "cell_type": "code",
   "execution_count": null,
   "id": "6da65b42",
   "metadata": {
    "deletable": false,
    "editable": false,
    "nbgrader": {
     "cell_type": "code",
     "checksum": "e3355f96f90938a0e10c38e9e165c602",
     "grade": true,
     "grade_id": "cell-0bede469175bd15d",
     "locked": true,
     "points": 1,
     "schema_version": 3,
     "solution": false,
     "task": false
    }
   },
   "outputs": [],
   "source": [
    "solution = %solution\n",
    "\n",
    "assert_equal(solution[0].strip(), \"[1, 1, 4, 9, 25, 64, 144]\")"
   ]
  },
  {
   "cell_type": "markdown",
   "id": "47a21e4e",
   "metadata": {
    "deletable": false,
    "editable": false,
    "nbgrader": {
     "cell_type": "markdown",
     "checksum": "206f0381a58abe1969839ceb2812cdf3",
     "grade": false,
     "grade_id": "cell-1522c269725162cf",
     "locked": true,
     "schema_version": 3,
     "solution": false,
     "task": false
    }
   },
   "source": [
    "## Válogatás\n",
    "\n",
    "Adott egy lista:\n",
    "`lista = [\"alma\", \"korte\", \"zsiraf\", \"akarat\", \"haz\", \"alaptetel\"]`\n",
    "\n",
    "Készíts ebből list comprehensionnel egy új listát amiben csak az `a` betűs szavak vannak benne, és írd ki.\n"
   ]
  },
  {
   "cell_type": "code",
   "execution_count": null,
   "id": "0bd0182f",
   "metadata": {
    "deletable": false,
    "nbgrader": {
     "cell_type": "code",
     "checksum": "98a7d74d2bad41088ef7d5b174199511",
     "grade": false,
     "grade_id": "cell-1bc5a980cd583d68",
     "locked": false,
     "schema_version": 3,
     "solution": true,
     "task": false
    }
   },
   "outputs": [],
   "source": [
    "lista = [\"alma\", \"korte\", \"zsiraf\", \"akarat\", \"haz\", \"alaptetel\"]\n",
    "# YOUR CODE HERE\n",
    "raise NotImplementedError()"
   ]
  },
  {
   "cell_type": "code",
   "execution_count": null,
   "id": "aaadb160",
   "metadata": {
    "deletable": false,
    "editable": false,
    "nbgrader": {
     "cell_type": "code",
     "checksum": "0d799f01e65c64a986b502a5db818ad1",
     "grade": true,
     "grade_id": "cell-4d96a53f5f5e00fb",
     "locked": true,
     "points": 1,
     "schema_version": 3,
     "solution": false,
     "task": false
    }
   },
   "outputs": [],
   "source": [
    "solution = %solution\n",
    "assert_equal(solution[0].strip(), \"['alma', 'akarat', 'alaptetel']\")"
   ]
  },
  {
   "cell_type": "markdown",
   "id": "56b8f326",
   "metadata": {
    "deletable": false,
    "editable": false,
    "nbgrader": {
     "cell_type": "markdown",
     "checksum": "75a84fd9d68945af03d891a5b466090a",
     "grade": false,
     "grade_id": "cell-78137960d4980eb3",
     "locked": true,
     "schema_version": 3,
     "solution": false,
     "task": false
    }
   },
   "source": [
    "## Mit vegyek\n",
    "\n",
    "Adott egy bevásárlólista:\n",
    "```python\n",
    "bevas = {\n",
    "    \"alma\" : 12,\n",
    "    \"korte\" : 66,\n",
    "    \"barack\" : 14,\n",
    "    \"ragogumi\": 2\n",
    "}\n",
    "```\n",
    "\n",
    "Készíts egy listát list comprehension használatával a beváslistán szereplő tételek neveiből amik értéke nagyobb mint `13` és írd ki ezeket."
   ]
  },
  {
   "cell_type": "code",
   "execution_count": null,
   "id": "eb31fbe0",
   "metadata": {
    "deletable": false,
    "nbgrader": {
     "cell_type": "code",
     "checksum": "c2e29a4473f75cbe81741ea31b023ec3",
     "grade": false,
     "grade_id": "cell-b6c1d03bdec0e894",
     "locked": false,
     "schema_version": 3,
     "solution": true,
     "task": false
    }
   },
   "outputs": [],
   "source": [
    "bevas = {\n",
    "    \"alma\" : 12,\n",
    "    \"korte\" : 66,\n",
    "    \"barack\" : 14,\n",
    "    \"ragogumi\": 2\n",
    "}\n",
    "\n",
    "# YOUR CODE HERE\n",
    "raise NotImplementedError()"
   ]
  },
  {
   "cell_type": "code",
   "execution_count": null,
   "id": "33df3102",
   "metadata": {
    "deletable": false,
    "editable": false,
    "nbgrader": {
     "cell_type": "code",
     "checksum": "bd8431c40e787e735f1fb1b8fe253957",
     "grade": true,
     "grade_id": "cell-e5f400fa0276104f",
     "locked": true,
     "points": 1,
     "schema_version": 3,
     "solution": false,
     "task": false
    }
   },
   "outputs": [],
   "source": [
    "solution = %solution\n",
    "assert_equal(solution[0].strip(), \"['korte', 'barack']\")"
   ]
  }
 ],
 "metadata": {
  "kernelspec": {
   "display_name": "Python 3",
   "language": "python",
   "name": "python3"
  },
  "language_info": {
   "codemirror_mode": {
    "name": "ipython",
    "version": 3
   },
   "file_extension": ".py",
   "mimetype": "text/x-python",
   "name": "python",
   "nbconvert_exporter": "python",
   "pygments_lexer": "ipython3",
   "version": "3.9.2"
  }
 },
 "nbformat": 4,
 "nbformat_minor": 5
}
