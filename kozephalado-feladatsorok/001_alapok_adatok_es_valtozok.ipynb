{
 "cells": [
  {
   "cell_type": "markdown",
   "id": "28aab6f6",
   "metadata": {
    "deletable": false,
    "editable": false,
    "nbgrader": {
     "cell_type": "markdown",
     "checksum": "3ffe27dbcf83b2847906a73757d0265a",
     "grade": false,
     "grade_id": "cell-e407f50bf8af04f1",
     "locked": true,
     "schema_version": 3,
     "solution": false,
     "task": false
    }
   },
   "source": [
    "# Jupyter notebook bevezető\n",
    "Ez a munkafüzet egy interaktív felület, ahol a jelölt rubrikákba kódot írva le lehet futtatni azokat. Az adott kódrészletet futtatni a felső menüben található gombokkal lehet (Run).\n",
    "\n",
    "A megoldásaidat az adott cellába írd, töröld a\n",
    "```python\n",
    "    # YOUR CODE HERE\n",
    "    raise NotImplementedError()\n",
    "```\n",
    "\n",
    "Megoldás után az adott és a következő cellát futtatsd (ezek az automatikus tesztek). Ha nem ír semmit, akkor jó a megoldás, ha hibát kapsz akkor javítsd az megoldást és futtasd mindkét cellát újra.\n",
    "\n",
    "Ha a notebook végéig minden teszt hiba nélkül lefut, akkor kész a feladatsor."
   ]
  },
  {
   "cell_type": "markdown",
   "id": "03d022c6",
   "metadata": {
    "deletable": false,
    "editable": false,
    "nbgrader": {
     "cell_type": "markdown",
     "checksum": "3ca618ba7abb458278ca45f753065d9e",
     "grade": false,
     "grade_id": "cell-1f6408e0a9f33ea6",
     "locked": true,
     "schema_version": 3,
     "solution": false,
     "task": false
    }
   },
   "source": [
    "# Hibaüzenetek, hibakezelés\n",
    "\n",
    "Néhány tipikus hibaüzenet, ha esetleg elakadnál. Nem kell most elolvasnod, csak ha hibát kapsz és nem érted, akkor itt ez esetleg segíthet.\n",
    "\n",
    "* `NotImplementedError` -> Nem törölted ki a # YOUR CODE HERE részt\n",
    "* `AssertionError` -> Nem jó a feladat megoldása, a teszt hibára futott\n",
    "* `NameError` -> Rosszul használod a Python parancsait, nézd át a kódot\n",
    "\n",
    "\n",
    "## Példák\n",
    "\n",
    "```python\n",
    "---------------------------------------------------------------------------\n",
    "NotImplementedError                       Traceback (most recent call last)\n",
    "<ipython-input-2-6d4db73a6e75> in <module>\n",
    "      2 \n",
    "      3     # YOUR CODE HERE\n",
    "----> 4     raise NotImplementedError()\n",
    "      5 \n",
    "      6 print(solution[0])\n",
    "\n",
    "NotImplementedError: \n",
    "```\n",
    "\n",
    "--> Nem törölted ki a kért részt, ki kell törölni és a helyére gépelni a megoldásodat.\n",
    "\n",
    "```python\n",
    "---------------------------------------------------------------------------\n",
    "AssertionError                            Traceback (most recent call last)\n",
    "<ipython-input-4-28814bafb7f0> in <module>\n",
    "      3 solution = get_ipython().run_line_magic('solution', '')\n",
    "      4 assert_true(len(solution))\n",
    "----> 5 assert_equal(float(solution[0]),  31200)\n",
    "\n",
    "/opt/conda/lib/python3.9/unittest/case.py in assertEqual(self, first, second, msg)\n",
    "    829         \"\"\"\n",
    "    830         assertion_func = self._getAssertEqualityFunc(first, second)\n",
    "--> 831         assertion_func(first, second, msg=msg)\n",
    "    832 \n",
    "    833     def assertNotEqual(self, first, second, msg=None):\n",
    "\n",
    "/opt/conda/lib/python3.9/unittest/case.py in _baseAssertEqual(self, first, second, msg)\n",
    "    822             standardMsg = '%s != %s' % _common_shorten_repr(first, second)\n",
    "    823             msg = self._formatMessage(msg, standardMsg)\n",
    "--> 824             raise self.failureException(msg)\n",
    "    825 \n",
    "    826     def assertEqual(self, first, second, msg=None):\n",
    "\n",
    "AssertionError: 312200.0 != 31200\n",
    "```\n",
    "\n",
    "--> Az automatikus teszt hibát talált a megoldásodban.\n",
    "\n",
    "\n",
    "```python\n",
    "---------------------------------------------------------------------------\n",
    "NameError                                 Traceback (most recent call last)\n",
    "<ipython-input-4-ba4712915cd0> in <module>\n",
    "      1 from nose.tools import assert_equal, assert_true\n",
    "      2 \n",
    "----> 3 assert_true(len(solution))\n",
    "      4 assert_equal(float(solution[0]),  31200)\n",
    "\n",
    "NameError: name 'solution' is not defined\n",
    "```\n",
    "--> Nem futtattad a megoldás celláját, csak a tesztét. Mindenképpen először a megoldás cellát kell futtatni, utána a tesztet. A bal oldali `In []` feliratot kell nézni, ha itt a [] ben van szám, akkor futtatva volt.\n",
    "\n",
    "```python\n",
    "---------------------------------------------------------------------------\n",
    "NameError                                 Traceback (most recent call last)\n",
    "<ipython-input-10-f48fdeef71f0> in <module>\n",
    "      2 \n",
    "      3     \n",
    "----> 4     prit(90 / 15 * 5200)\n",
    "      5     \n",
    "      6 \n",
    "\n",
    "NameError: name 'prit' is not defined\n",
    "```\n",
    "\n",
    "--> Rosszul használsz valamilyen Python kulcsszót, itt pl el van írva a `print` helyett `prit`\n",
    "\n",
    "```python\n",
    "---------------------------------------------------------------------------\n",
    "TypeError                                 Traceback (most recent call last)\n",
    "<ipython-input-12-1e94ef827a25> in <module>\n",
    "      7     eletkor = input(\"Add meg az életkorod: \")\n",
    "      8     ital = input(\"Milyen italt kérsz?: \")\n",
    "----> 9     if eletkor < 18 and ital == \"sör\":\n",
    "     10         print(\"Sajnos nem adhatok.\")\n",
    "     11         exit(1)\n",
    "\n",
    "TypeError: '<' not supported between instances of 'str' and 'int'\n",
    "```\n",
    "\n",
    "--> Rossz típusokat használsz, itt a hiba pl, hogy az `input` eredményét először számmá kell konvertálni `int(input(\"valami\"))`"
   ]
  },
  {
   "cell_type": "markdown",
   "id": "54957ef5",
   "metadata": {
    "deletable": false,
    "editable": false,
    "nbgrader": {
     "cell_type": "markdown",
     "checksum": "242920dbdafea4642d3e11589438c928",
     "grade": false,
     "grade_id": "cell-31cf552956495c14",
     "locked": true,
     "schema_version": 3,
     "solution": false,
     "task": false
    }
   },
   "source": [
    "# 1. feladatsor - egyszerű utasítások \n",
    "## Szoba kifestés\n",
    "A 90m<sup>2</sup>-es szobádat akarod kfiesteni, egy vödör festék 15<sup>2</sup> kifestésére elég és 5200 Ft-ba kerül.\n",
    "\n",
    "**Mennyibe fog kerülni a teljes szoba kifestése?**"
   ]
  },
  {
   "cell_type": "code",
   "execution_count": null,
   "id": "6c74a977",
   "metadata": {
    "deletable": false,
    "nbgrader": {
     "cell_type": "code",
     "checksum": "bdbc8e295387198053a1e6c3e4aa1039",
     "grade": false,
     "grade_id": "1_feladat",
     "locked": false,
     "schema_version": 3,
     "solution": true,
     "task": false
    }
   },
   "outputs": [],
   "source": [
    "# YOUR CODE HERE\n",
    "raise NotImplementedError()"
   ]
  },
  {
   "cell_type": "code",
   "execution_count": null,
   "id": "8af76d9f",
   "metadata": {
    "deletable": false,
    "editable": false,
    "nbgrader": {
     "cell_type": "code",
     "checksum": "82a162c3628f93f128c816433accd185",
     "grade": true,
     "grade_id": "1_feladat_test",
     "locked": true,
     "points": 1,
     "schema_version": 3,
     "solution": false,
     "task": false
    }
   },
   "outputs": [],
   "source": [
    "solution = %solution\n",
    "\n",
    "assert_true(len(solution))\n",
    "assert_equal(float(solution[0]),  31200)"
   ]
  },
  {
   "cell_type": "markdown",
   "id": "7e103d17",
   "metadata": {
    "deletable": false,
    "editable": false,
    "nbgrader": {
     "cell_type": "markdown",
     "checksum": "071648338425c9e0ff9db7105d1510fa",
     "grade": false,
     "grade_id": "cell-f6fa8674c87abe4a",
     "locked": true,
     "schema_version": 3,
     "solution": false,
     "task": false
    }
   },
   "source": [
    "## Festő bére\n",
    "A festő egy m<sup>2</sup> -t 12 perc alatt fest le, de az egész szobát kétszer festi át. Ha nettó 1800 forintos órabérrel dolgozik, akkor mennyi lesz a nettó végösszeg?\n",
    "\n",
    "Mennyi lesz 27% áfával a végösszeg?"
   ]
  },
  {
   "cell_type": "code",
   "execution_count": null,
   "id": "d82c95e9",
   "metadata": {
    "deletable": false,
    "nbgrader": {
     "cell_type": "code",
     "checksum": "b22f33eedfabdae744a7fff32989fb14",
     "grade": false,
     "grade_id": "2_feladat",
     "locked": false,
     "schema_version": 3,
     "solution": true,
     "task": false
    }
   },
   "outputs": [],
   "source": [
    "# YOUR CODE HERE\n",
    "raise NotImplementedError()"
   ]
  },
  {
   "cell_type": "code",
   "execution_count": null,
   "id": "e08e1808",
   "metadata": {
    "deletable": false,
    "editable": false,
    "nbgrader": {
     "cell_type": "code",
     "checksum": "785267b979b8da86ddf47387d667d2ce",
     "grade": true,
     "grade_id": "2_feladat_test",
     "locked": true,
     "points": 1,
     "schema_version": 3,
     "solution": false,
     "task": false
    }
   },
   "outputs": [],
   "source": [
    "solution = %solution\n",
    "\n",
    "assert_true(len(solution) == 2)\n",
    "assert_equal(float(solution[0]),  13500)\n",
    "assert_equal(float(solution[1]),  17145)"
   ]
  },
  {
   "cell_type": "markdown",
   "id": "d7399ca0",
   "metadata": {
    "deletable": false,
    "editable": false,
    "nbgrader": {
     "cell_type": "markdown",
     "checksum": "c07a43e116b4944f357ba7775da7fede",
     "grade": false,
     "grade_id": "cell-785eec469a702aba",
     "locked": true,
     "schema_version": 3,
     "solution": false,
     "task": false
    }
   },
   "source": [
    "## Nagymama befőttjei\n",
    "Nagymama 30kg paradicsomot akar befőzni. Kilónként 0.8 liter paradicsompüré lesz a főzés során, és ezeket 6 decis üvegekbe tölti.\n",
    "\n",
    "**Hány üveget tud megtölteni teljesen?**"
   ]
  },
  {
   "cell_type": "code",
   "execution_count": null,
   "id": "65b119a8",
   "metadata": {
    "deletable": false,
    "nbgrader": {
     "cell_type": "code",
     "checksum": "21fe0870e1ad041fae2bdc50d6719d83",
     "grade": false,
     "grade_id": "cell-1742f85bb6e44a40",
     "locked": false,
     "schema_version": 3,
     "solution": true,
     "task": false
    }
   },
   "outputs": [],
   "source": [
    "# YOUR CODE HERE\n",
    "raise NotImplementedError()"
   ]
  },
  {
   "cell_type": "code",
   "execution_count": null,
   "id": "cb4ef58b",
   "metadata": {
    "deletable": false,
    "editable": false,
    "nbgrader": {
     "cell_type": "code",
     "checksum": "07b4b822b2ce518aeef26c028d9a6c0c",
     "grade": true,
     "grade_id": "cell-ca7425aa985db6c1",
     "locked": true,
     "points": 1,
     "schema_version": 3,
     "solution": false,
     "task": false
    }
   },
   "outputs": [],
   "source": [
    "solution = %solution\n",
    "\n",
    "assert_true(len(solution))\n",
    "assert_equal(float(solution[0]),  40)"
   ]
  },
  {
   "cell_type": "markdown",
   "id": "bb360da6",
   "metadata": {
    "deletable": false,
    "editable": false,
    "nbgrader": {
     "cell_type": "markdown",
     "checksum": "e97cdab670076bcc6e04654d3da24a60",
     "grade": false,
     "grade_id": "cell-054c645a2db4c5bb",
     "locked": true,
     "schema_version": 3,
     "solution": false,
     "task": false
    }
   },
   "source": [
    "## Autó fogyasztás\n",
    "Az autód 7 litert fogyaszt országúton és 9-et városban. A hévízi üdülésedre 170 kilómétert utazol országúton és 35-öt városban.\n",
    "\n",
    "**Mennyit fogyaszt az autód csak oda?**\n",
    "\n",
    "**Mennyit fogyaszt az autód oda-vissza?**\n",
    "\n",
    "**Mennybe kerül a teljes út, ha 350 forint a benzin?**"
   ]
  },
  {
   "cell_type": "code",
   "execution_count": null,
   "id": "bcecc99e",
   "metadata": {
    "deletable": false,
    "nbgrader": {
     "cell_type": "code",
     "checksum": "afa70cb89a1589766987966e4945a36a",
     "grade": false,
     "grade_id": "cell-7a92284df926610d",
     "locked": false,
     "schema_version": 3,
     "solution": true,
     "task": false
    }
   },
   "outputs": [],
   "source": [
    "# YOUR CODE HERE\n",
    "raise NotImplementedError()"
   ]
  },
  {
   "cell_type": "code",
   "execution_count": null,
   "id": "bc471266",
   "metadata": {
    "deletable": false,
    "editable": false,
    "nbgrader": {
     "cell_type": "code",
     "checksum": "5c51e9d985b96d49fb0bfa261e684b82",
     "grade": true,
     "grade_id": "cell-3a685528f6ed9482",
     "locked": true,
     "points": 1,
     "schema_version": 3,
     "solution": false,
     "task": false
    }
   },
   "outputs": [],
   "source": [
    "solution = %solution\n",
    "\n",
    "assert_true(len(solution) == 3)\n",
    "assert_equal(float(solution[0]),  15.05)\n",
    "assert_equal(float(solution[1]),  30.1)\n",
    "assert_equal(float(solution[2]),  10535.0)"
   ]
  },
  {
   "cell_type": "markdown",
   "id": "fc6e104f",
   "metadata": {
    "deletable": false,
    "editable": false,
    "nbgrader": {
     "cell_type": "markdown",
     "checksum": "5214726e6b0ce88ea31e448e7c905673",
     "grade": false,
     "grade_id": "cell-5b4fafbdecdafa8f",
     "locked": true,
     "schema_version": 3,
     "solution": false,
     "task": false
    }
   },
   "source": [
    "# 2. feladatsor - változók\n",
    "\n",
    "## Autó fogyasztás változókkal\n",
    "\n",
    "**Oldd meg az \"Autó fogyasztás\" feladatot változókkal.** A szállás és étekezés a kétnapos hétvégére 35 000Ft. Összesen 70 000Ft-od van az utazásra.\n",
    "\n",
    "**El tudsz-e menni az útra?**"
   ]
  },
  {
   "cell_type": "code",
   "execution_count": null,
   "id": "ab3cc4f4",
   "metadata": {
    "deletable": false,
    "nbgrader": {
     "cell_type": "code",
     "checksum": "6c66f4472b35b23348b18356111fbe6f",
     "grade": false,
     "grade_id": "cell-09329f6eca268563",
     "locked": false,
     "schema_version": 3,
     "solution": true,
     "task": false
    }
   },
   "outputs": [],
   "source": [
    "# A csak_oda, oda_vissza, teljes_ut_ara, el_tudok_e_menni nevu valtozoba szamoljuk ki az eredmenyt\n",
    "csak_oda = 0\n",
    "oda_vissza = 0\n",
    "teljes_ut_ara = 0\n",
    "el_tudok_e_menni = None\n",
    "\n",
    "# YOUR CODE HERE\n",
    "raise NotImplementedError()\n",
    "\n",
    "print(csak_oda)\n",
    "print(oda_vissza)\n",
    "print(teljes_ut_ara)\n",
    "print(el_tudok_e_menni)"
   ]
  },
  {
   "cell_type": "code",
   "execution_count": null,
   "id": "f4622aee",
   "metadata": {
    "deletable": false,
    "editable": false,
    "nbgrader": {
     "cell_type": "code",
     "checksum": "6bd649af4129eef4be804be986676f1d",
     "grade": true,
     "grade_id": "cell-6cb6b031ec2d8245",
     "locked": true,
     "points": 1,
     "schema_version": 3,
     "solution": false,
     "task": false
    }
   },
   "outputs": [],
   "source": [
    "solution = %solution\n",
    "\n",
    "assert_equal(csak_oda,  15.05)\n",
    "assert_equal(oda_vissza,  30.1)\n",
    "assert_equal(teljes_ut_ara,  10535.0)\n",
    "assert_equal(el_tudok_e_menni,  True if el_tudok_e_menni is not None else None)"
   ]
  },
  {
   "cell_type": "markdown",
   "id": "17229aa0",
   "metadata": {
    "deletable": false,
    "editable": false,
    "nbgrader": {
     "cell_type": "markdown",
     "checksum": "71f3070433ee2a5f17c9c9130eff0e38",
     "grade": false,
     "grade_id": "cell-10bf01555bb54b15",
     "locked": true,
     "schema_version": 3,
     "solution": false,
     "task": false
    }
   },
   "source": [
    "## Biztonságos jelszó\n",
    "\n",
    "Ments el egy jelszót a \"password\" nevű változóban! A jelszónak legalább 8 karakter hosszúnak kell lennie, hogy biztonságosnak tekintsük. \n",
    "\n",
    "**Írj egy kifejezést, amely megvizsgálja, hogy biztonságos-e a megadott jelszó.**"
   ]
  },
  {
   "cell_type": "code",
   "execution_count": null,
   "id": "c52d08ef",
   "metadata": {
    "deletable": false,
    "nbgrader": {
     "cell_type": "code",
     "checksum": "00b2565e0f5dad28a2809caeb286eab2",
     "grade": false,
     "grade_id": "cell-64771b0dd0200ea6",
     "locked": false,
     "schema_version": 3,
     "solution": true,
     "task": false
    }
   },
   "outputs": [],
   "source": [
    "# YOUR CODE HERE\n",
    "raise NotImplementedError()"
   ]
  },
  {
   "cell_type": "code",
   "execution_count": null,
   "id": "49c03417",
   "metadata": {
    "deletable": false,
    "editable": false,
    "nbgrader": {
     "cell_type": "code",
     "checksum": "a6051769dc05011393a1a55e66e0d9a4",
     "grade": true,
     "grade_id": "cell-fac21acc0a8d7946",
     "locked": true,
     "points": 1,
     "schema_version": 3,
     "solution": false,
     "task": false
    }
   },
   "outputs": [],
   "source": [
    "solution = %solution\n",
    "\n",
    "assert_true('password' in locals())\n",
    "assert_true(len(solution))\n",
    "\n",
    "if len(password) > 8:\n",
    "    assert_equal(solution[0],  'True')\n",
    "else:\n",
    "    assert_equal(solution[0],  'False')    "
   ]
  },
  {
   "cell_type": "markdown",
   "id": "038f7855",
   "metadata": {
    "deletable": false,
    "editable": false,
    "nbgrader": {
     "cell_type": "markdown",
     "checksum": "f9cfdc1b5c064d619b05e6ce835f35d5",
     "grade": false,
     "grade_id": "cell-8130721d19f9e307",
     "locked": true,
     "schema_version": 3,
     "solution": false,
     "task": false
    }
   },
   "source": [
    "## Kémia\n",
    "\n",
    "1 dm<sup>3</sup> egységnyi alumínium tömege 2,7kg, a nikkelé pedig 8,8kg.\n",
    "\n",
    "**Írasd ki: nehezebb-e 0,34 dm<sup>3</sup> nikkel, mint 1,23 dm<sup>3</sup> alumínium?**\n",
    "\n",
    "_(Ne feledd, Pythonban tizedespontot kell használnod tizedesvessző helyett)_"
   ]
  },
  {
   "cell_type": "code",
   "execution_count": null,
   "id": "f8c2b202",
   "metadata": {
    "deletable": false,
    "nbgrader": {
     "cell_type": "code",
     "checksum": "73213df822e3eccf6eb4befa41db7b1b",
     "grade": false,
     "grade_id": "cell-c984a0b1b6ad2fcc",
     "locked": false,
     "schema_version": 3,
     "solution": true,
     "task": false
    }
   },
   "outputs": [],
   "source": [
    "# YOUR CODE HERE\n",
    "raise NotImplementedError()"
   ]
  },
  {
   "cell_type": "code",
   "execution_count": null,
   "id": "a9d87705",
   "metadata": {
    "deletable": false,
    "editable": false,
    "nbgrader": {
     "cell_type": "code",
     "checksum": "b979cef5c5eb75075bd93b72f1ed1fc1",
     "grade": true,
     "grade_id": "cell-27b9b29d44a50d50",
     "locked": true,
     "points": 1,
     "schema_version": 3,
     "solution": false,
     "task": false
    }
   },
   "outputs": [],
   "source": [
    "solution = %solution\n",
    "\n",
    "assert_true(len(solution))\n",
    "assert_equal(solution[0],  'True')"
   ]
  },
  {
   "cell_type": "markdown",
   "id": "592cccc7",
   "metadata": {
    "deletable": false,
    "editable": false,
    "nbgrader": {
     "cell_type": "markdown",
     "checksum": "64893b39f05d0e54fa9be12633861b37",
     "grade": false,
     "grade_id": "cell-18cbb6649ca34bfa",
     "locked": true,
     "schema_version": 3,
     "solution": false,
     "task": false
    }
   },
   "source": [
    "## Áram fogyasztás\n",
    "\n",
    "A villanyórád 25 amperes. (Vagyis a 230V hálózati feszültséggel 25 * 230 Watt teljesítményt tud kiszolgálni)\n",
    "\n",
    "A felkapcsolt világítást 5 db 30 wattos izzó biztosítja, a nyári meleg ellen bekapcsoltad a klímádat, ez jelenleg 1500 watton üzemel, illetve az 1200 wattos mosógéped is dolgozik.\n",
    "\n",
    "**Írasd ki: Bekapcsolhatod-e a 2000 wattos vasalógépedet, vagy kell tőle tartanod, hogy lekapcsol a megszakító?**"
   ]
  },
  {
   "cell_type": "code",
   "execution_count": null,
   "id": "037b920d",
   "metadata": {
    "deletable": false,
    "nbgrader": {
     "cell_type": "code",
     "checksum": "6286fcec5b63c309320842ee7481dbb0",
     "grade": false,
     "grade_id": "cell-2066d48477a99fc8",
     "locked": false,
     "schema_version": 3,
     "solution": true,
     "task": false
    }
   },
   "outputs": [],
   "source": [
    "# YOUR CODE HERE\n",
    "raise NotImplementedError()"
   ]
  },
  {
   "cell_type": "code",
   "execution_count": null,
   "id": "cbf055db",
   "metadata": {
    "deletable": false,
    "editable": false,
    "nbgrader": {
     "cell_type": "code",
     "checksum": "fa73174a1972bced0d84b0e9d26877d2",
     "grade": true,
     "grade_id": "cell-207096d8c75c12a1",
     "locked": true,
     "points": 1,
     "schema_version": 3,
     "solution": false,
     "task": false
    }
   },
   "outputs": [],
   "source": [
    "solution = %solution\n",
    "\n",
    "assert_true(len(solution))\n",
    "assert_equal(solution[0],  'True')"
   ]
  },
  {
   "cell_type": "markdown",
   "id": "29701f79",
   "metadata": {
    "deletable": false,
    "editable": false,
    "nbgrader": {
     "cell_type": "markdown",
     "checksum": "58a0bd7d1e2893091728807364c2dac1",
     "grade": false,
     "grade_id": "cell-a8cb559ad885c4f6",
     "locked": true,
     "schema_version": 3,
     "solution": false,
     "task": false
    }
   },
   "source": [
    "# 3. feladatsor - String, operátorok, vezérlés\n",
    "\n",
    "## Pultozás\n",
    "\n",
    "**A felhasználó életkorát és italválasztását használva szolgáld őt ki!**\n",
    "\n",
    "Kétféle italt ismerünk: sör és kóla\n",
    "    \n",
    "Ha a felhasználó 18 év alatti és sört kér, közöld vele hogy \"Sajnos nem adhatok.\"\n",
    "\n",
    "Ha a felhasználó 60 feletti és kólát kér, közöld vele, hogy \"A koffein megemelheti a vérnyomását, sajnos nem adhatok.\"\n",
    "\n",
    "Ha ismeretlen italt adott meg, akkor írd ki, hogy \"Sajnos csak sört és kólát tudok adni.\"\n",
    "\n",
    "Minden más esetben írd ki, hogy \"Parancsoljon, itt a sör.\" vagy \"Parancsoljon, itt a kóla\".\n",
    "\n",
    "\n",
    "_Ahol szükséges, ne felejtsd el konvertálni az értékeket_"
   ]
  },
  {
   "cell_type": "code",
   "execution_count": null,
   "id": "04b28426",
   "metadata": {
    "deletable": false,
    "nbgrader": {
     "cell_type": "code",
     "checksum": "88bd0bfaaafa0479cb38e4af6f26e3c6",
     "grade": false,
     "grade_id": "cell-0991a3ca87d6d839",
     "locked": false,
     "schema_version": 3,
     "solution": true,
     "task": false
    }
   },
   "outputs": [],
   "source": [
    "# Ezeket atirva teszteld a megoldasodat\n",
    "eletkor = 0  # Lehetseges ertekek: 0-999\n",
    "ital = \"\"  # Lehetseges ertekek: \"sör\", \"kóla\"\n",
    "\n",
    "# YOUR CODE HERE\n",
    "raise NotImplementedError()"
   ]
  },
  {
   "cell_type": "code",
   "execution_count": null,
   "id": "474cac89",
   "metadata": {
    "deletable": false,
    "editable": false,
    "nbgrader": {
     "cell_type": "code",
     "checksum": "c359ea268df3b3e0c6e558cf59b9fe0b",
     "grade": true,
     "grade_id": "cell-fded93d3cf780074",
     "locked": true,
     "points": 1,
     "schema_version": 3,
     "solution": false,
     "task": false
    }
   },
   "outputs": [],
   "source": [
    "solution = %solution\n",
    "\n",
    "assert_true(len(solution))\n",
    "\n",
    "if eletkor < 18 and ital == \"sör\":\n",
    "    assert_equal(solution[0], \"Sajnos nem adhatok.\")\n",
    "elif eletkor > 60 and ital == \"kóla\":\n",
    "    assert_equal(solution[0], \"A koffein megemelheti a vérnyomását, sajnos nem adhatok.\")\n",
    "elif ital != \"sör\" or ital != \"kóla\":\n",
    "    assert_equal(solution[0], \"Sajnos csak sört és kólát tudok adni.\")\n",
    "else:\n",
    "    assert_equal(solution[0], f\"Parancsoljon, itt a {ital}.\")"
   ]
  },
  {
   "cell_type": "markdown",
   "id": "c7f3deb7",
   "metadata": {
    "deletable": false,
    "editable": false,
    "nbgrader": {
     "cell_type": "markdown",
     "checksum": "ab63dd3eb661f49d8943007bff272664",
     "grade": false,
     "grade_id": "cell-49cb5194bac7575a",
     "locked": true,
     "schema_version": 3,
     "solution": false,
     "task": false
    }
   },
   "source": [
    "## Autó fogyasztás változókkal 2\n",
    "\n",
    "Oldd meg a 2/a (üzemanyag fogyasztás) feladatot úgy, hogy nem előre megadott értékekkel (országúti fogyasztás, országúto megtett út, városi fogyasztás, városban megtetett út, benzin ára) dolgozol, hanem ezeket a felhasználótól kéred be.\n",
    "\n",
    "_Ahol szükséges, ne felejtsd el konvertálni az értékeket_"
   ]
  },
  {
   "cell_type": "code",
   "execution_count": null,
   "id": "bb33ddb1",
   "metadata": {
    "deletable": false,
    "nbgrader": {
     "cell_type": "code",
     "checksum": "afebb24e18814f346a558599b0019455",
     "grade": false,
     "grade_id": "cell-0401409948bd40f0",
     "locked": false,
     "schema_version": 3,
     "solution": true,
     "task": false
    }
   },
   "outputs": [],
   "source": [
    "# A kovetkezo valtozokba kerjuk be az adatokat\n",
    "orszaguti_km = 0\n",
    "orszaguti_fogyasztas = 0\n",
    "varosi_km = 0\n",
    "varosi_fogyasztas = 0\n",
    "benzin_ara = 0\n",
    "\n",
    "# A csak_oda, oda_vissza, teljes_ut_ara, el_tudok_e_menni nevu valtozoba szamoljuk ki az eredmenyt\n",
    "csak_oda = 0\n",
    "oda_vissza = 0\n",
    "teljes_ut_ara = 0\n",
    "el_tudok_e_menni = None\n",
    "\n",
    "# YOUR CODE HERE\n",
    "raise NotImplementedError()\n",
    "\n",
    "print(csak_oda)\n",
    "print(oda_vissza)\n",
    "print(teljes_ut_ara)\n",
    "print(el_tudok_e_menni)"
   ]
  },
  {
   "cell_type": "code",
   "execution_count": null,
   "id": "d7660306",
   "metadata": {
    "deletable": false,
    "editable": false,
    "nbgrader": {
     "cell_type": "code",
     "checksum": "e2e06f74778c613a2dd9064e218a7be2",
     "grade": true,
     "grade_id": "cell-a7de36810d308589",
     "locked": true,
     "points": 1,
     "schema_version": 3,
     "solution": false,
     "task": false
    }
   },
   "outputs": [],
   "source": [
    "solution = %solution\n",
    "\n",
    "assert_equal(csak_oda,  orszaguti_fogyasztas * orszaguti_km/100 + varosi_km/100 * varosi_fogyasztas)\n",
    "assert_equal(oda_vissza,  csak_oda * 2)\n",
    "assert_equal(teljes_ut_ara,  oda_vissza * 350)\n",
    "assert_equal(el_tudok_e_menni,  70000 > teljes_ut_ara + 35000 if el_tudok_e_menni is not None else None)"
   ]
  }
 ],
 "metadata": {
  "kernelspec": {
   "display_name": "Python 3",
   "language": "python",
   "name": "python3"
  },
  "language_info": {
   "codemirror_mode": {
    "name": "ipython",
    "version": 3
   },
   "file_extension": ".py",
   "mimetype": "text/x-python",
   "name": "python",
   "nbconvert_exporter": "python",
   "pygments_lexer": "ipython3",
   "version": "3.9.2"
  }
 },
 "nbformat": 4,
 "nbformat_minor": 5
}
