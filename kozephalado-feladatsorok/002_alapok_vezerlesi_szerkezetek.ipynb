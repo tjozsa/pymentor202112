{
 "cells": [
  {
   "cell_type": "markdown",
   "id": "58070fae",
   "metadata": {
    "deletable": false,
    "editable": false,
    "nbgrader": {
     "cell_type": "markdown",
     "checksum": "69bd4870967d03471f5822dd2d9fb36f",
     "grade": false,
     "grade_id": "cell-1ee533b61f664629",
     "locked": true,
     "schema_version": 3,
     "solution": false,
     "task": false
    }
   },
   "source": [
    "# 1. feladatsor - Ciklusok\n",
    "\n",
    "## Felhasználónév és jelszó\n",
    "Írj programot, amely addig kér felhasználónevet és jelszót, amíg kellően erős adatokat nem adunk meg.\n",
    "\n",
    "Felhasználónév legalább 6 karakter, jelszó legalább nyolc karakter, nem egyezik a felhasználónévvel.)"
   ]
  },
  {
   "cell_type": "code",
   "execution_count": null,
   "id": "9837c1d8",
   "metadata": {
    "deletable": false,
    "nbgrader": {
     "cell_type": "code",
     "checksum": "834164d43196e2e9ab3d1b78363cae57",
     "grade": false,
     "grade_id": "cell-99da8cea42168c47",
     "locked": false,
     "schema_version": 3,
     "solution": true,
     "task": false
    }
   },
   "outputs": [],
   "source": [
    "username = None\n",
    "password = None\n",
    "\n",
    "# YOUR CODE HERE\n",
    "raise NotImplementedError()"
   ]
  },
  {
   "cell_type": "code",
   "execution_count": null,
   "id": "2640e0cf",
   "metadata": {
    "deletable": false,
    "editable": false,
    "nbgrader": {
     "cell_type": "code",
     "checksum": "37033b0c1a2fc0c91aa800a2f6233556",
     "grade": true,
     "grade_id": "cell-67adc014e0d56af4",
     "locked": true,
     "points": 1,
     "schema_version": 3,
     "solution": false,
     "task": false
    }
   },
   "outputs": [],
   "source": [
    "solution = %solution\n",
    "\n",
    "assert_true(username is not None and password is not None)\n",
    "assert_true(len(username) >= 6 and len(password) >= 8 and username != password)"
   ]
  },
  {
   "cell_type": "markdown",
   "id": "cafb3cea",
   "metadata": {
    "deletable": false,
    "editable": false,
    "nbgrader": {
     "cell_type": "markdown",
     "checksum": "05f5eb764d2a4af3e196744fdd240ff2",
     "grade": false,
     "grade_id": "cell-cc93c17982c20d2a",
     "locked": true,
     "schema_version": 3,
     "solution": false,
     "task": false
    }
   },
   "source": [
    "## Sorminta\n",
    "\n",
    "Készíts egy programot, ami képes a következő sormintát kirajzolni:\n",
    "\n",
    "`sorok = 5`\n",
    "\n",
    "\n",
    "`#\n",
    "##\n",
    "###\n",
    "####\n",
    "#####\n",
    "`"
   ]
  },
  {
   "cell_type": "code",
   "execution_count": null,
   "id": "4bdef4ec",
   "metadata": {
    "deletable": false,
    "nbgrader": {
     "cell_type": "code",
     "checksum": "0dceb3ad13937da7f68c56a33379e36b",
     "grade": false,
     "grade_id": "cell-7e8fc91bf1391d0c",
     "locked": false,
     "schema_version": 3,
     "solution": true,
     "task": false
    }
   },
   "outputs": [],
   "source": [
    "sorok = 5\n",
    "\n",
    "# YOUR CODE HERE\n",
    "raise NotImplementedError()"
   ]
  },
  {
   "cell_type": "code",
   "execution_count": null,
   "id": "5558bdac",
   "metadata": {
    "deletable": false,
    "editable": false,
    "nbgrader": {
     "cell_type": "code",
     "checksum": "995ba6c40823f1bdaa8ff76bc2f417a4",
     "grade": true,
     "grade_id": "cell-8f82ba6dd106d32a",
     "locked": true,
     "points": 1,
     "schema_version": 3,
     "solution": false,
     "task": false
    }
   },
   "outputs": [],
   "source": [
    "solution = %solution\n",
    "assert_equal(solution[0], \"#\")\n",
    "assert_equal(solution[1], \"##\")\n",
    "assert_equal(solution[2], \"###\")\n",
    "assert_equal(solution[3], \"####\")\n",
    "assert_equal(solution[4], \"#####\")"
   ]
  },
  {
   "cell_type": "markdown",
   "id": "fd2ab938",
   "metadata": {
    "deletable": false,
    "editable": false,
    "nbgrader": {
     "cell_type": "markdown",
     "checksum": "4cf01480d53797d00342edb241f456eb",
     "grade": false,
     "grade_id": "cell-1ce8f98451e7c900",
     "locked": true,
     "schema_version": 3,
     "solution": false,
     "task": false
    }
   },
   "source": [
    "## Szám kitalálás\n",
    "\n",
    "Írj programot, amely 1 és 100 közt gondol egy véletlen számra. Tippet kér a felhasználótól, és kiírja, hogy\n",
    "a gondolt szám nagyobb-e vagy kisebb. Ha a felhasználó eltalálja a gondolt számot, akkor a program gratulál, és a\n",
    "futásának vége szakad (ezt a `Gratulalok eltalaltad` kiírásával tegye meg)."
   ]
  },
  {
   "cell_type": "code",
   "execution_count": null,
   "id": "e1bebd6a",
   "metadata": {
    "deletable": false,
    "nbgrader": {
     "cell_type": "code",
     "checksum": "78275bbf19366bf61e0dd1db39e54873",
     "grade": false,
     "grade_id": "cell-0058d833213a1604",
     "locked": false,
     "schema_version": 3,
     "solution": true,
     "task": false
    }
   },
   "outputs": [],
   "source": [
    "import random\n",
    "\n",
    "szam = None\n",
    "\n",
    "# YOUR CODE HERE\n",
    "raise NotImplementedError()"
   ]
  },
  {
   "cell_type": "code",
   "execution_count": null,
   "id": "6f08e620",
   "metadata": {
    "deletable": false,
    "editable": false,
    "nbgrader": {
     "cell_type": "code",
     "checksum": "61fa1ea50df7c63fd4f339a1be78304b",
     "grade": true,
     "grade_id": "cell-9ce09057eaf32821",
     "locked": true,
     "points": 0,
     "schema_version": 3,
     "solution": false,
     "task": false
    }
   },
   "outputs": [],
   "source": [
    "solution = %solution\n",
    "\n",
    "assert_true(type(szam) == int)\n",
    "assert_true(len(solution))\n",
    "assert_true(solution[-1] == 'Gratulalok eltalaltad')"
   ]
  },
  {
   "cell_type": "markdown",
   "id": "5cbb2931",
   "metadata": {
    "deletable": false,
    "editable": false,
    "nbgrader": {
     "cell_type": "markdown",
     "checksum": "4af7dce317754f36e155bfb3b4ac48ad",
     "grade": false,
     "grade_id": "cell-75c28b32b64704ee",
     "locked": true,
     "schema_version": 3,
     "solution": false,
     "task": false
    }
   },
   "source": [
    "## Számoló\n",
    "\n",
    "Készíts egy programot, ami `while` ciklust használ, hogy a 1-1000 5el osztható számokat összeadja a `my_sum` változóba."
   ]
  },
  {
   "cell_type": "code",
   "execution_count": null,
   "id": "4ac40bb2",
   "metadata": {
    "deletable": false,
    "nbgrader": {
     "cell_type": "code",
     "checksum": "9499ca7510454bd32782892141f8c980",
     "grade": false,
     "grade_id": "cell-cc810269a1dd3747",
     "locked": false,
     "schema_version": 3,
     "solution": true,
     "task": false
    }
   },
   "outputs": [],
   "source": [
    "my_sum = 0\n",
    "\n",
    "# YOUR CODE HERE\n",
    "raise NotImplementedError()\n",
    "print(my_sum)"
   ]
  },
  {
   "cell_type": "code",
   "execution_count": null,
   "id": "3b2d985b",
   "metadata": {
    "deletable": false,
    "editable": false,
    "nbgrader": {
     "cell_type": "code",
     "checksum": "3a11b67a18a3c8d879b03ff72c15103d",
     "grade": true,
     "grade_id": "cell-15c3ffa094c1ce7a",
     "locked": true,
     "points": 0,
     "schema_version": 3,
     "solution": false,
     "task": false
    }
   },
   "outputs": [],
   "source": [
    "solution = %solution\n",
    "\n",
    "assert_equal(my_sum, 100500)"
   ]
  }
 ],
 "metadata": {
  "kernelspec": {
   "display_name": "Python 3",
   "language": "python",
   "name": "python3"
  },
  "language_info": {
   "codemirror_mode": {
    "name": "ipython",
    "version": 3
   },
   "file_extension": ".py",
   "mimetype": "text/x-python",
   "name": "python",
   "nbconvert_exporter": "python",
   "pygments_lexer": "ipython3",
   "version": "3.9.2"
  }
 },
 "nbformat": 4,
 "nbformat_minor": 5
}
