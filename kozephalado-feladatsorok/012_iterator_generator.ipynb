{
 "cells": [
  {
   "cell_type": "markdown",
   "id": "949b9aa0",
   "metadata": {
    "deletable": false,
    "editable": false,
    "nbgrader": {
     "cell_type": "markdown",
     "checksum": "2654d9210cefdefaf52ad757db122e7c",
     "grade": false,
     "grade_id": "cell-7b80c3bb099cfb4c",
     "locked": true,
     "schema_version": 3,
     "solution": false,
     "task": false
    }
   },
   "source": [
    "# 1. feladatsor - Iterátorok\n",
    "## Névsor\n",
    "\n",
    "Adott egy tanulói névsor:\n",
    "\n",
    "`nevek = [\"Szandra Eszti\", \"Zsombor Kristóf\", \"Ervin Karcsi\", \"Gabriella Gertrúd \", \"Felicitás Alexander\", \"Aurél Domonkos\", \"Vilmos Mariska\", \"Mónika Melánia \", \"Henriett Kató\", \"Dominika Vida\", \"Felicitás Salamon\", \"Regina Irma\", \"Laci Dzsenifer \", \"Sándor Judit\", \"Lilla Bálint\", \"Terézia Györgyike\", \"Albert Ábrahám \"]`\n",
    "\n",
    "Készíts egy iterátort `Nevsor` neven, ami ezt a névsort kapja meg, és betűrendben adja vissza a neveket."
   ]
  },
  {
   "cell_type": "code",
   "execution_count": null,
   "id": "61472f89",
   "metadata": {
    "deletable": false,
    "nbgrader": {
     "cell_type": "code",
     "checksum": "7e938e3b278f18a5014bbaee0ad79651",
     "grade": false,
     "grade_id": "cell-84721ecb4b633c21",
     "locked": false,
     "schema_version": 3,
     "solution": true,
     "task": false
    }
   },
   "outputs": [],
   "source": [
    "nevek = [\"Szandra Eszti\", \"Zsombor Kristóf\", \"Ervin Karcsi\", \"Gabriella Gertrúd \", \"Felicitás Alexander\", \"Aurél Domonkos\", \"Vilmos Mariska\", \"Mónika Melánia \", \"Henriett Kató\", \"Dominika Vida\", \"Felicitás Salamon\", \"Regina Irma\", \"Laci Dzsenifer \", \"Sándor Judit\", \"Lilla Bálint\", \"Terézia Györgyike\", \"Albert Ábrahám \"]\n",
    "\n",
    "# YOUR CODE HERE\n",
    "raise NotImplementedError()\n",
    "for i in Nevsor(nevek):\n",
    "    print(i)"
   ]
  },
  {
   "cell_type": "code",
   "execution_count": null,
   "id": "6da65b42",
   "metadata": {
    "deletable": false,
    "editable": false,
    "nbgrader": {
     "cell_type": "code",
     "checksum": "811b08bd667ef07281e79acd1542e1ae",
     "grade": true,
     "grade_id": "cell-0bede469175bd15d",
     "locked": true,
     "points": 1,
     "schema_version": 3,
     "solution": false,
     "task": false
    }
   },
   "outputs": [],
   "source": [
    "solution = %solution\n",
    "\n",
    "assert_equal([x for x in Nevsor(nevek)], [\"Albert Ábrahám \",\n",
    "\"Aurél Domonkos\",\n",
    "\"Dominika Vida\",\n",
    "\"Ervin Karcsi\",\n",
    "\"Felicitás Alexander\",\n",
    "\"Felicitás Salamon\",\n",
    "\"Gabriella Gertrúd \",\n",
    "\"Henriett Kató\",\n",
    "\"Laci Dzsenifer \",\n",
    "\"Lilla Bálint\",\n",
    "\"Mónika Melánia \",\n",
    "\"Regina Irma\",\n",
    "\"Szandra Eszti\",\n",
    "\"Sándor Judit\",\n",
    "\"Terézia Györgyike\",\n",
    "\"Vilmos Mariska\",\n",
    "\"Zsombor Kristóf\"])"
   ]
  },
  {
   "cell_type": "markdown",
   "id": "47a21e4e",
   "metadata": {
    "deletable": false,
    "editable": false,
    "nbgrader": {
     "cell_type": "markdown",
     "checksum": "895f1977650022ab971daf2c8103468e",
     "grade": false,
     "grade_id": "cell-1522c269725162cf",
     "locked": true,
     "schema_version": 3,
     "solution": false,
     "task": false
    }
   },
   "source": [
    "## Négyzetszámok\n",
    "\n",
    "Készíts egy iterátort `Squares` néven, ami végigmegy egy `limit` ig a számokon 0-tól és mindegyikre visszaadja a négyzetét.\n",
    "\n",
    "A `limit` legyen `__init__` paraméter."
   ]
  },
  {
   "cell_type": "code",
   "execution_count": null,
   "id": "0bd0182f",
   "metadata": {
    "deletable": false,
    "nbgrader": {
     "cell_type": "code",
     "checksum": "989eab2d821632e0f5dd11ba2f288a6a",
     "grade": false,
     "grade_id": "cell-1bc5a980cd583d68",
     "locked": false,
     "schema_version": 3,
     "solution": true,
     "task": false
    }
   },
   "outputs": [],
   "source": [
    "# YOUR CODE HERE\n",
    "raise NotImplementedError()\n",
    "my_squares = Squares(limit=20)\n",
    "print([x for x in my_squares])"
   ]
  },
  {
   "cell_type": "code",
   "execution_count": null,
   "id": "aaadb160",
   "metadata": {
    "deletable": false,
    "editable": false,
    "nbgrader": {
     "cell_type": "code",
     "checksum": "2dc2a60ddc8debb2122a73953c35b5e1",
     "grade": true,
     "grade_id": "cell-4d96a53f5f5e00fb",
     "locked": true,
     "points": 1,
     "schema_version": 3,
     "solution": false,
     "task": false
    }
   },
   "outputs": [],
   "source": [
    "solution = %solution\n",
    "assert_equal(solution[0], \"[0, 1, 4, 9, 16, 25, 36, 49, 64, 81, 100, 121, 144, 169, 196, 225, 256, 289, 324, 361]\")"
   ]
  },
  {
   "cell_type": "markdown",
   "id": "ae29956d",
   "metadata": {
    "deletable": false,
    "editable": false,
    "nbgrader": {
     "cell_type": "markdown",
     "checksum": "b93d4b361119b41a08eb3e16f942496b",
     "grade": false,
     "grade_id": "cell-b19e64949f912999",
     "locked": true,
     "schema_version": 3,
     "solution": false,
     "task": false
    }
   },
   "source": [
    "# 2. feladatsor - Generátorok\n",
    "## Hét napjai generátor\n",
    "\n",
    "Adottak a hét napjai\n",
    "\n",
    "`days = [\"Monday\",\"Tuesday\",\"Wednesday\",\"Thursday\",\"Friday\",\"Saturday\",\"Sunday\"]`\n",
    "\n",
    "Írj egy generátort `day_of_week` néven, ami kigenerálja ezeket."
   ]
  },
  {
   "cell_type": "code",
   "execution_count": null,
   "id": "2fa16eaa",
   "metadata": {
    "deletable": false,
    "nbgrader": {
     "cell_type": "code",
     "checksum": "f338814a9a27fcb8ec5f429384569189",
     "grade": false,
     "grade_id": "cell-5f3ac85c68017818",
     "locked": false,
     "schema_version": 3,
     "solution": true,
     "task": false
    }
   },
   "outputs": [],
   "source": [
    "# YOUR CODE HERE\n",
    "raise NotImplementedError()\n",
    "print([x for x in day_of_week()])"
   ]
  },
  {
   "cell_type": "code",
   "execution_count": null,
   "id": "b90b0dfc",
   "metadata": {
    "deletable": false,
    "editable": false,
    "nbgrader": {
     "cell_type": "code",
     "checksum": "e8ff2dba62796d5073889491d5d25966",
     "grade": true,
     "grade_id": "cell-e4847263acee2df0",
     "locked": true,
     "points": 1,
     "schema_version": 3,
     "solution": false,
     "task": false
    }
   },
   "outputs": [],
   "source": [
    "solution = %solution\n",
    "assert_equal(solution[0], \"['Monday', 'Tuesday', 'Wednesday', 'Thursday', 'Friday', 'Saturday', 'Sunday']\")"
   ]
  }
 ],
 "metadata": {
  "kernelspec": {
   "display_name": "Python 3",
   "language": "python",
   "name": "python3"
  },
  "language_info": {
   "codemirror_mode": {
    "name": "ipython",
    "version": 3
   },
   "file_extension": ".py",
   "mimetype": "text/x-python",
   "name": "python",
   "nbconvert_exporter": "python",
   "pygments_lexer": "ipython3",
   "version": "3.9.2"
  }
 },
 "nbformat": 4,
 "nbformat_minor": 5
}
