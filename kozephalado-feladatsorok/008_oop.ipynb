{
 "cells": [
  {
   "cell_type": "markdown",
   "id": "949b9aa0",
   "metadata": {
    "deletable": false,
    "editable": false,
    "nbgrader": {
     "cell_type": "markdown",
     "checksum": "40721750eebd711bc152856a2badecf7",
     "grade": false,
     "grade_id": "cell-7b80c3bb099cfb4c",
     "locked": true,
     "schema_version": 3,
     "solution": false,
     "task": false
    }
   },
   "source": [
    "# 1. feladatsor - OOP\n",
    "## Személyek típusa\n",
    "\n",
    "Írj egy Python programot ami képes személyek adatát tárolni a memóriában. A megvalósításban használj osztályt (`Person` néven).\n",
    "\n",
    "A Person típusban el kell tudni tárolni a személy kereszt- és vezetéknevét, életkorát, címét (használj példány változókat a következő neveken:)\n",
    "\n",
    "`fname, lname, age, address`"
   ]
  },
  {
   "cell_type": "code",
   "execution_count": null,
   "id": "61472f89",
   "metadata": {
    "deletable": false,
    "nbgrader": {
     "cell_type": "code",
     "checksum": "15777e79fd869803caff4a6945745c4d",
     "grade": false,
     "grade_id": "cell-84721ecb4b633c21",
     "locked": false,
     "schema_version": 3,
     "solution": true,
     "task": false
    }
   },
   "outputs": [],
   "source": [
    "# YOUR CODE HERE\n",
    "raise NotImplementedError()\n",
    "p1 = Person('Istvan', 'Kiss', 55, '1111, Bp, Nagy Utca 8')"
   ]
  },
  {
   "cell_type": "code",
   "execution_count": null,
   "id": "6da65b42",
   "metadata": {
    "deletable": false,
    "editable": false,
    "nbgrader": {
     "cell_type": "code",
     "checksum": "994132a1be6128f71bc7f2f5d674de2e",
     "grade": true,
     "grade_id": "cell-0bede469175bd15d",
     "locked": true,
     "points": 1,
     "schema_version": 3,
     "solution": false,
     "task": false
    }
   },
   "outputs": [],
   "source": [
    "solution = %solution\n",
    "assert_equal(p1.fname, \"Istvan\")\n",
    "assert_equal(p1.lname, \"Kiss\")\n",
    "assert_equal(p1.age, 55)\n",
    "assert_equal(p1.address, \"1111, Bp, Nagy Utca 8\")"
   ]
  },
  {
   "cell_type": "markdown",
   "id": "47a21e4e",
   "metadata": {
    "deletable": false,
    "editable": false,
    "nbgrader": {
     "cell_type": "markdown",
     "checksum": "7a74ba2d609c248d527822e9cf76bddd",
     "grade": false,
     "grade_id": "cell-1522c269725162cf",
     "locked": true,
     "schema_version": 3,
     "solution": false,
     "task": false
    }
   },
   "source": [
    "## Személy típus viselkedése\n",
    "\n",
    "Az Person objektum legyen képes vissza adni a teljes nevét a személynek (használj példány metódust, legyen a neve `get_name`)\n"
   ]
  },
  {
   "cell_type": "code",
   "execution_count": null,
   "id": "0bd0182f",
   "metadata": {
    "deletable": false,
    "nbgrader": {
     "cell_type": "code",
     "checksum": "242f749bb737896efafdb6d30302fe4c",
     "grade": false,
     "grade_id": "cell-1bc5a980cd583d68",
     "locked": false,
     "schema_version": 3,
     "solution": true,
     "task": false
    }
   },
   "outputs": [],
   "source": [
    "# Masold ide az elozo feladatban megirt osztalyt, es azt egeszitsd ki\n",
    "\n",
    "# YOUR CODE HERE\n",
    "raise NotImplementedError()\n",
    "p1 = Person('Istvan', 'Kiss', 55, '1111, Bp, Nagy Utca 8')\n",
    "p1.get_name()"
   ]
  },
  {
   "cell_type": "code",
   "execution_count": null,
   "id": "aaadb160",
   "metadata": {
    "deletable": false,
    "editable": false,
    "nbgrader": {
     "cell_type": "code",
     "checksum": "a050cf2ad7d89747c5d0e55b04dee0fe",
     "grade": true,
     "grade_id": "cell-4d96a53f5f5e00fb",
     "locked": true,
     "points": 1,
     "schema_version": 3,
     "solution": false,
     "task": false
    }
   },
   "outputs": [],
   "source": [
    "solution = %solution\n",
    "\n",
    "assert_equal(p1.get_name(), \"Istvan Kiss\")\n"
   ]
  },
  {
   "cell_type": "markdown",
   "id": "52211d80",
   "metadata": {
    "deletable": false,
    "editable": false,
    "nbgrader": {
     "cell_type": "markdown",
     "checksum": "c32c9c2c3f576065bd955df0e1c02597",
     "grade": false,
     "grade_id": "cell-53ee597c68e6289b",
     "locked": true,
     "schema_version": 3,
     "solution": false,
     "task": false
    }
   },
   "source": [
    "## Személy típus kiíratás\n",
    "\n",
    "A Person objektum legyen szépen printelhető."
   ]
  },
  {
   "cell_type": "code",
   "execution_count": null,
   "id": "f76a2e24",
   "metadata": {
    "deletable": false,
    "nbgrader": {
     "cell_type": "code",
     "checksum": "c5f637cc3ddbbce99801f6b303cb2215",
     "grade": false,
     "grade_id": "cell-fa28ec479ae79a9b",
     "locked": false,
     "schema_version": 3,
     "solution": true,
     "task": false
    }
   },
   "outputs": [],
   "source": [
    "# Masold ide az elozo feladatban megirt osztalyt, es azt egeszitsd ki\n",
    "\n",
    "# YOUR CODE HERE\n",
    "raise NotImplementedError()\n",
    "p1 = Person('Istvan', 'Kiss', 55, '1111, Bp, Nagy Utca 8')\n",
    "p1.get_name()\n",
    "print(p1)"
   ]
  },
  {
   "cell_type": "code",
   "execution_count": null,
   "id": "cd7440fb",
   "metadata": {
    "deletable": false,
    "editable": false,
    "nbgrader": {
     "cell_type": "code",
     "checksum": "b38dd437ec74d83ba01be3c48d3f9058",
     "grade": true,
     "grade_id": "cell-7b5025d3c59272e8",
     "locked": true,
     "points": 1,
     "schema_version": 3,
     "solution": false,
     "task": false
    }
   },
   "outputs": [],
   "source": [
    "solution = %solution\n",
    "\n",
    "assert_true(Person.__str__ is not object.__str__)"
   ]
  },
  {
   "cell_type": "markdown",
   "id": "842c928a",
   "metadata": {
    "deletable": false,
    "editable": false,
    "nbgrader": {
     "cell_type": "markdown",
     "checksum": "c4b7db13db5c12d4dbd57997b92265ff",
     "grade": false,
     "grade_id": "cell-256281cde98e44f2",
     "locked": true,
     "schema_version": 3,
     "solution": false,
     "task": false
    }
   },
   "source": [
    "# 2. feladatsor - Öröklődés\n",
    "\n",
    "Egészítsük ki a `Person` példát egy `Employee` és egy `Manager` leszármazott osztállyal.\n",
    "\n",
    "Az `Employee` osztály egy olyan személyt valósít meg aki alkalmazott. Ennek megfelelően kell tárolnod a fizetését és a beosztását, és főnökét (`Manager`). (használj példány változókat)\n",
    "\n",
    "`fname, lname, age, address, salary, role, manager`\n",
    "\n",
    "Nem mindenkinek van egyből főnöke, legyen ez opcionálisan megadható. Ha valaki példányosítás után akarja megadni, legyen erre egy `set_manager` belső fuknció a `Employee` osztályon.\n",
    "\n",
    "---\n",
    "\n",
    "\n",
    "A `Manager` osztály egy olyan személyt valósít meg aki foglalkoztat `Employee`kat. Tárolj a `Manager` osztályban egy `Employee` listat ami a beosztottakat tartalmazza. Legyen egy olyan függvénye, ami kiírja az összes beosztottját (`print_employees`).\n",
    "\n",
    "`fname, lname, age, address, employees`\n",
    "\n",
    "Lehessen szépen kiírni az `Employee` osztály és a `Manager` osztály példányainak főbb állapotát a print() függvénnyel."
   ]
  },
  {
   "cell_type": "code",
   "execution_count": null,
   "id": "c91c25de",
   "metadata": {
    "deletable": false,
    "nbgrader": {
     "cell_type": "code",
     "checksum": "acdf5b3324eac60178efa3d3ab3cd606",
     "grade": false,
     "grade_id": "cell-418b00a802b0b724",
     "locked": false,
     "schema_version": 3,
     "solution": true,
     "task": false
    }
   },
   "outputs": [],
   "source": [
    "# YOUR CODE HERE\n",
    "raise NotImplementedError()\n",
    "p1 = Person('Istvan', 'Kiss', 55, '1111, Bp, Nagy Utca 8')\n",
    "\n",
    "print(p1)\n",
    "\n",
    "e1 = Employee('Istvan', 'Kiss', 55, '1111, Bp, Nagy Utca 8', 1000.0, 'developer')\n",
    "print(e1)\n",
    "\n",
    "m1 = Manager('Istvan', 'Kiss', 55, '1111, Bp, Nagy Utca 8', [e1])\n",
    "print(m1)\n",
    "\n",
    "e1.set_manager(m1)\n",
    "m1.print_employees()"
   ]
  },
  {
   "cell_type": "code",
   "execution_count": null,
   "id": "9a064e38",
   "metadata": {
    "deletable": false,
    "editable": false,
    "nbgrader": {
     "cell_type": "code",
     "checksum": "473c671367cfe7c1889c06614a256001",
     "grade": true,
     "grade_id": "cell-f9590ac80e179b46",
     "locked": true,
     "points": 0,
     "schema_version": 3,
     "solution": false,
     "task": false
    }
   },
   "outputs": [],
   "source": [
    "solution = %solution\n",
    "\n",
    "assert_true(Employee.__str__ is not object.__str__)\n",
    "assert_true(Manager.__str__ is not object.__str__)\n",
    "assert_equal(e1.manager, m1) \n",
    "assert_true(type(m1.employees) == list) \n",
    "assert_equal(m1.employees[0], e1) "
   ]
  }
 ],
 "metadata": {
  "kernelspec": {
   "display_name": "Python 3",
   "language": "python",
   "name": "python3"
  },
  "language_info": {
   "codemirror_mode": {
    "name": "ipython",
    "version": 3
   },
   "file_extension": ".py",
   "mimetype": "text/x-python",
   "name": "python",
   "nbconvert_exporter": "python",
   "pygments_lexer": "ipython3",
   "version": "3.9.2"
  }
 },
 "nbformat": 4,
 "nbformat_minor": 5
}
