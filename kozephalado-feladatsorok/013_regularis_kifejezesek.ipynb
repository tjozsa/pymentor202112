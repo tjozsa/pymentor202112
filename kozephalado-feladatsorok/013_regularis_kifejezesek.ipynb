{
 "cells": [
  {
   "cell_type": "markdown",
   "id": "949b9aa0",
   "metadata": {
    "deletable": false,
    "editable": false,
    "nbgrader": {
     "cell_type": "markdown",
     "checksum": "e409e6de62e5988cf527508e98bfdf00",
     "grade": false,
     "grade_id": "cell-7b80c3bb099cfb4c",
     "locked": true,
     "schema_version": 3,
     "solution": false,
     "task": false
    }
   },
   "source": [
    "# 1. feladatsor - Reguláris kifejezések\n",
    "## Szöveget keresünk\n",
    "\n",
    "Adottak a következő patternek:\n",
    "\n",
    "`patterns = [ 'fox', 'dog', 'horse' ]`\n",
    "\n",
    "És a következő szöveg:\n",
    "\n",
    "`text = 'The quick brown fox jumps over the lazy dog.'`\n",
    "\n",
    "\n",
    "Írj egy programot, ami egyesével megpróbálja megkeresni a patterneket a szövegben, és mindegyiknél kiírja, hogy `Benn van` vagy `Nincs benne`."
   ]
  },
  {
   "cell_type": "code",
   "execution_count": null,
   "id": "61472f89",
   "metadata": {
    "deletable": false,
    "nbgrader": {
     "cell_type": "code",
     "checksum": "ec3d394b145ed3080fcf36856d034b9c",
     "grade": false,
     "grade_id": "cell-84721ecb4b633c21",
     "locked": false,
     "schema_version": 3,
     "solution": true,
     "task": false
    }
   },
   "outputs": [],
   "source": [
    "# YOUR CODE HERE\n",
    "raise NotImplementedError()"
   ]
  },
  {
   "cell_type": "code",
   "execution_count": null,
   "id": "6da65b42",
   "metadata": {
    "deletable": false,
    "editable": false,
    "nbgrader": {
     "cell_type": "code",
     "checksum": "d2d4c0b1cd3897c8bffb5d908a8a0fb7",
     "grade": true,
     "grade_id": "cell-0bede469175bd15d",
     "locked": true,
     "points": 1,
     "schema_version": 3,
     "solution": false,
     "task": false
    }
   },
   "outputs": [],
   "source": [
    "solution = %solution\n",
    "\n",
    "assert_equal(solution[0].strip(), \"Benne van\")\n",
    "assert_equal(solution[1].strip(), \"Benne van\")\n",
    "assert_equal(solution[2].strip(), \"Nincs benne\")"
   ]
  },
  {
   "cell_type": "markdown",
   "id": "47a21e4e",
   "metadata": {
    "deletable": false,
    "editable": false,
    "nbgrader": {
     "cell_type": "markdown",
     "checksum": "80522607ca34a981c2060997ec9b7931",
     "grade": false,
     "grade_id": "cell-1522c269725162cf",
     "locked": true,
     "schema_version": 3,
     "solution": false,
     "task": false
    }
   },
   "source": [
    "## URL keresés\n",
    "\n",
    "Adott egy szöveg amiben url-ek is vannak:\n",
    "\n",
    "`text = \"Látogass el a https://valami.hu oldalra, vagy nézd meg a legújabb ajánlatunkat a http://masikvalami.hu oldalon\"`\n",
    "\n",
    "Írj egy programot, ami kiválogatja a linkeket a szövegből és kiírja ezeket.\n",
    "\n"
   ]
  },
  {
   "cell_type": "code",
   "execution_count": null,
   "id": "0bd0182f",
   "metadata": {
    "deletable": false,
    "nbgrader": {
     "cell_type": "code",
     "checksum": "837cf56d9036ec4be638c1f6f7523c00",
     "grade": false,
     "grade_id": "cell-1bc5a980cd583d68",
     "locked": false,
     "schema_version": 3,
     "solution": true,
     "task": false
    }
   },
   "outputs": [],
   "source": [
    "text = \"Látogass el a https://valami.hu oldalra, vagy nézd meg a legújabb ajánlatunkat a http://masikvalami.hu oldalon\"\n",
    "\n",
    "# YOUR CODE HERE\n",
    "raise NotImplementedError()"
   ]
  },
  {
   "cell_type": "code",
   "execution_count": null,
   "id": "aaadb160",
   "metadata": {
    "deletable": false,
    "editable": false,
    "nbgrader": {
     "cell_type": "code",
     "checksum": "9fd3b80b05b816b85df0331401a889c1",
     "grade": true,
     "grade_id": "cell-4d96a53f5f5e00fb",
     "locked": true,
     "points": 1,
     "schema_version": 3,
     "solution": false,
     "task": false
    }
   },
   "outputs": [],
   "source": [
    "solution = %solution\n",
    "assert_equal(solution[0], \"['https://valami.hu', 'http://masikvalami.hu']\")"
   ]
  },
  {
   "cell_type": "markdown",
   "id": "ae29956d",
   "metadata": {
    "deletable": false,
    "editable": false,
    "nbgrader": {
     "cell_type": "markdown",
     "checksum": "4418b10bfd71becea2b8e3ad9762f3bb",
     "grade": false,
     "grade_id": "cell-b19e64949f912999",
     "locked": true,
     "schema_version": 3,
     "solution": false,
     "task": false
    }
   },
   "source": [
    "# Szöveg cenzúra\n",
    "\n",
    "Adott egy szöveg:\n",
    "\n",
    "`text = \"jó feketeség volt előttünk, fekete napra ébredtünk, mély fekete víz tükrét néztük\"`\n",
    "\n",
    "A cenzornak nem tetszik a sok `fekete` szó bármilyen formája, írj egy programot ami reguláris kifejezések használatával kitörli ezeket és kiírja az új szöveget.\n"
   ]
  },
  {
   "cell_type": "code",
   "execution_count": null,
   "id": "2fa16eaa",
   "metadata": {
    "deletable": false,
    "nbgrader": {
     "cell_type": "code",
     "checksum": "e7212cdcfc9acef2ba694dd527e88f7c",
     "grade": false,
     "grade_id": "cell-5f3ac85c68017818",
     "locked": false,
     "schema_version": 3,
     "solution": true,
     "task": false
    }
   },
   "outputs": [],
   "source": [
    "# YOUR CODE HERE\n",
    "raise NotImplementedError()"
   ]
  },
  {
   "cell_type": "code",
   "execution_count": null,
   "id": "b90b0dfc",
   "metadata": {
    "deletable": false,
    "editable": false,
    "nbgrader": {
     "cell_type": "code",
     "checksum": "e597075d47474dd4c8b3c490ec6036b9",
     "grade": true,
     "grade_id": "cell-e4847263acee2df0",
     "locked": true,
     "points": 1,
     "schema_version": 3,
     "solution": false,
     "task": false
    }
   },
   "outputs": [],
   "source": [
    "solution = %solution\n",
    "\n",
    "assert_equal(solution[0], \"jó volt előttünk, napra ébredtünk, mély víz tükrét néztük\")"
   ]
  }
 ],
 "metadata": {
  "kernelspec": {
   "display_name": "Python 3",
   "language": "python",
   "name": "python3"
  },
  "language_info": {
   "codemirror_mode": {
    "name": "ipython",
    "version": 3
   },
   "file_extension": ".py",
   "mimetype": "text/x-python",
   "name": "python",
   "nbconvert_exporter": "python",
   "pygments_lexer": "ipython3",
   "version": "3.9.2"
  }
 },
 "nbformat": 4,
 "nbformat_minor": 5
}
