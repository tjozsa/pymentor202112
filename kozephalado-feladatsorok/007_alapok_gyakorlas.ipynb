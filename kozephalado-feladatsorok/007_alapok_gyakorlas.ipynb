{
 "cells": [
  {
   "cell_type": "markdown",
   "id": "949b9aa0",
   "metadata": {
    "deletable": false,
    "editable": false,
    "nbgrader": {
     "cell_type": "markdown",
     "checksum": "cf54d371e573d420a2731609770c2ce7",
     "grade": false,
     "grade_id": "cell-7b80c3bb099cfb4c",
     "locked": true,
     "schema_version": 3,
     "solution": false,
     "task": false
    }
   },
   "source": [
    "# 1. feladatsor - Python alapok gyakorlása\n",
    "## Vándorló madarak\n",
    "\n",
    "Adott egy lista ami madár megfigyeléseket tartalmaz időrendi sorrendben. Egy bejegyzett szám az adott madár típusa.\n",
    "`madarak = [2, 3, 2, 4, 5, 1, 2, 2, 3, 4, 6, 4, 2]`\n",
    "\n",
    "\n",
    "Írj egy olyan Python programot ami összesíti egy `dict`-ben a madártípusokat, és hogy hányszor fordultak elő a mérés során."
   ]
  },
  {
   "cell_type": "code",
   "execution_count": null,
   "id": "61472f89",
   "metadata": {
    "deletable": false,
    "nbgrader": {
     "cell_type": "code",
     "checksum": "f62cd7ded41599d129ae4156e62c359b",
     "grade": false,
     "grade_id": "cell-84721ecb4b633c21",
     "locked": false,
     "schema_version": 3,
     "solution": true,
     "task": false
    }
   },
   "outputs": [],
   "source": [
    "madarak = [2, 3, 2, 4, 5, 1, 2, 2, 3, 4, 6, 4, 2]\n",
    "# YOUR CODE HERE\n",
    "raise NotImplementedError()"
   ]
  },
  {
   "cell_type": "code",
   "execution_count": null,
   "id": "6da65b42",
   "metadata": {
    "deletable": false,
    "editable": false,
    "nbgrader": {
     "cell_type": "code",
     "checksum": "f27799b895a9ca6d3fb53365bd77a86f",
     "grade": true,
     "grade_id": "cell-0bede469175bd15d",
     "locked": true,
     "points": 1,
     "schema_version": 3,
     "solution": false,
     "task": false
    }
   },
   "outputs": [],
   "source": [
    "solution = %solution\n",
    "assert_equal(solution[0].strip(), \"{2: 5, 3: 2, 4: 3, 5: 1, 1: 1, 6: 1}\")"
   ]
  },
  {
   "cell_type": "markdown",
   "id": "47a21e4e",
   "metadata": {
    "deletable": false,
    "editable": false,
    "nbgrader": {
     "cell_type": "markdown",
     "checksum": "2bb485c41de047d063840fd2279645ca",
     "grade": false,
     "grade_id": "cell-1522c269725162cf",
     "locked": true,
     "schema_version": 3,
     "solution": false,
     "task": false
    }
   },
   "source": [
    "## CamelCase számoló\n",
    "Készíts egy függvényt `camel_case_solver` néven, ami paraméternek egy karakterláncot kap, és megadja, hogy hány szó van összefűzve CamelCase módon a megadott stringben.\n",
    "\n",
    "Pl:\n",
    "`camel_case_solver(\"CamelCaseTestCase\")` -> 4"
   ]
  },
  {
   "cell_type": "code",
   "execution_count": null,
   "id": "0bd0182f",
   "metadata": {
    "deletable": false,
    "nbgrader": {
     "cell_type": "code",
     "checksum": "3f965eb9b1f10a126e555a682ed1b993",
     "grade": false,
     "grade_id": "cell-1bc5a980cd583d68",
     "locked": false,
     "schema_version": 3,
     "solution": true,
     "task": false
    }
   },
   "outputs": [],
   "source": [
    "# YOUR CODE HERE\n",
    "raise NotImplementedError()"
   ]
  },
  {
   "cell_type": "code",
   "execution_count": null,
   "id": "aaadb160",
   "metadata": {
    "deletable": false,
    "editable": false,
    "nbgrader": {
     "cell_type": "code",
     "checksum": "676f87712c58e8c23f27b63329d688e5",
     "grade": true,
     "grade_id": "cell-4d96a53f5f5e00fb",
     "locked": true,
     "points": 1,
     "schema_version": 3,
     "solution": false,
     "task": false
    }
   },
   "outputs": [],
   "source": [
    "solution = %solution\n",
    "\n",
    "assert_true('camel_case_solver' in locals())\n",
    "assert_equal(camel_case_solver('CamelCaseTestCase'), 4)\n",
    "assert_equal(camel_case_solver('alma'), 1)\n",
    "assert_equal(camel_case_solver('almafa'), 1)\n",
    "assert_equal(camel_case_solver('Alma'), 1)\n",
    "assert_equal(camel_case_solver('AlmaFa'), 2)\n"
   ]
  },
  {
   "cell_type": "markdown",
   "id": "52211d80",
   "metadata": {
    "deletable": false,
    "editable": false,
    "nbgrader": {
     "cell_type": "markdown",
     "checksum": "45d0b13c12cadef1a2f39dc11ebc1f79",
     "grade": false,
     "grade_id": "cell-53ee597c68e6289b",
     "locked": true,
     "schema_version": 3,
     "solution": false,
     "task": false
    }
   },
   "source": [
    "## Doboz rajzoló\n",
    "\n",
    "Készíts egy függvényt (`draw_box` néven), ami stringet készít, amellyel szöveget tudunk kiírni egy dobozba, pl:\n",
    "\n",
    "```python\n",
    "#########\n",
    "# Hello #\n",
    "#########\n",
    "```\n",
    "\n",
    "A függvénynek lehessen megadni:\n",
    "* A doboz szélességét\n",
    "* A doboz magasságát\n",
    "* A kiírandó szöveget\n",
    "\n",
    "A szöveget mindig helyezzük horizontális és vertikális középre. A függvény térjen vissza az eredménnyel, ne írjon ki.\n",
    "\n",
    "Ha a megadott szélesség / magasságba nem férne be a szöveg, akkor térjen vissza `None` értékkel."
   ]
  },
  {
   "cell_type": "code",
   "execution_count": null,
   "id": "f76a2e24",
   "metadata": {
    "deletable": false,
    "nbgrader": {
     "cell_type": "code",
     "checksum": "b460f47b52f06c16e789ac60aac06c7e",
     "grade": false,
     "grade_id": "cell-fa28ec479ae79a9b",
     "locked": false,
     "schema_version": 3,
     "solution": true,
     "task": false
    }
   },
   "outputs": [],
   "source": [
    "# YOUR CODE HERE\n",
    "raise NotImplementedError()\n",
    "print(draw_box(15, 5, \"hello\"))"
   ]
  },
  {
   "cell_type": "code",
   "execution_count": null,
   "id": "cd7440fb",
   "metadata": {
    "deletable": false,
    "editable": false,
    "nbgrader": {
     "cell_type": "code",
     "checksum": "43b87f06d9f27352462e43942367587b",
     "grade": true,
     "grade_id": "cell-7b5025d3c59272e8",
     "locked": true,
     "points": 1,
     "schema_version": 3,
     "solution": false,
     "task": false
    }
   },
   "outputs": [],
   "source": [
    "solution = %solution\n",
    "\n",
    "assert_equal(draw_box(1, 1, \"Hello\"), None)\n",
    "assert_equal(draw_box(5, 15, \"Hello\"), None)\n",
    "assert_equal(draw_box(5, 7, \"Hello\"), None)\n",
    "assert_equal(draw_box(15, 5, \"hello\"), \"###############\\n#             #\\n#    hello    #\\n#             #\\n###############\\n\")"
   ]
  }
 ],
 "metadata": {
  "kernelspec": {
   "display_name": "Python 3",
   "language": "python",
   "name": "python3"
  },
  "language_info": {
   "codemirror_mode": {
    "name": "ipython",
    "version": 3
   },
   "file_extension": ".py",
   "mimetype": "text/x-python",
   "name": "python",
   "nbconvert_exporter": "python",
   "pygments_lexer": "ipython3",
   "version": "3.9.2"
  }
 },
 "nbformat": 4,
 "nbformat_minor": 5
}
