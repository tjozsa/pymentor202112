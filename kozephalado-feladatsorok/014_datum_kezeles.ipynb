{
 "cells": [
  {
   "cell_type": "markdown",
   "id": "949b9aa0",
   "metadata": {
    "deletable": false,
    "editable": false,
    "nbgrader": {
     "cell_type": "markdown",
     "checksum": "8efaae12a9162fece9503d6bf286da9a",
     "grade": false,
     "grade_id": "cell-7b80c3bb099cfb4c",
     "locked": true,
     "schema_version": 3,
     "solution": false,
     "task": false
    }
   },
   "source": [
    "# 1. feladatsor - Dátum kezelés\n",
    "## Visszaszámláló\n",
    "Írj egy Python programot ami egy visszaszámláló órát valósít meg, nevezd el a függvényt `countdown` néven.\n",
    "\n",
    "Válassz egy eseményt ami tudod mikor van, mondjuk újév.\n",
    "\n",
    "Írd ki, hogy mennyi év, hó, nap, perc, másodperc van még hátra az eseményig, pl: `200 days, 2:31:03.938311`"
   ]
  },
  {
   "cell_type": "code",
   "execution_count": null,
   "id": "61472f89",
   "metadata": {
    "deletable": false,
    "nbgrader": {
     "cell_type": "code",
     "checksum": "b92850e7ed788f325abce5423268b72b",
     "grade": false,
     "grade_id": "cell-84721ecb4b633c21",
     "locked": false,
     "schema_version": 3,
     "solution": true,
     "task": false
    }
   },
   "outputs": [],
   "source": [
    "import time\n",
    "from datetime import datetime\n",
    "\n",
    "# a nevezetes datum\n",
    "new_year_2022 = datetime(year = 2022, month = 1, day = 1, hour = 0, minute = 0, second = 1)\n",
    "\n",
    "# YOUR CODE HERE\n",
    "raise NotImplementedError()\n",
    "countdown(3)"
   ]
  },
  {
   "cell_type": "code",
   "execution_count": null,
   "id": "6da65b42",
   "metadata": {
    "deletable": false,
    "editable": false,
    "nbgrader": {
     "cell_type": "code",
     "checksum": "be6f2bc818b80d866416db965b331d8a",
     "grade": true,
     "grade_id": "cell-0bede469175bd15d",
     "locked": true,
     "points": 1,
     "schema_version": 3,
     "solution": false,
     "task": false
    }
   },
   "outputs": [],
   "source": [
    "import re\n",
    "from datetime import timedelta\n",
    "solution = %solution\n",
    "\n",
    "def parse(s):\n",
    "    if 'day' in s:\n",
    "        m = re.match(r'(?P<days>[-\\d]+) day[s]*, (?P<hours>\\d+):(?P<minutes>\\d+):(?P<seconds>\\d[\\.\\d+]*)', s)\n",
    "    else:\n",
    "        m = re.match(r'(?P<hours>\\d+):(?P<minutes>\\d+):(?P<seconds>\\d[\\.\\d+]*)', s)\n",
    "    return timedelta(**{key: float(val) for key, val in m.groupdict().items()})\n",
    "\n",
    "countdown_result = parse(solution[0].strip())\n",
    "delta = new_year_2022 - datetime.now()\n",
    "assert_true(countdown_result - delta < timedelta(minutes=1))\n"
   ]
  }
 ],
 "metadata": {
  "kernelspec": {
   "display_name": "Python 3",
   "language": "python",
   "name": "python3"
  },
  "language_info": {
   "codemirror_mode": {
    "name": "ipython",
    "version": 3
   },
   "file_extension": ".py",
   "mimetype": "text/x-python",
   "name": "python",
   "nbconvert_exporter": "python",
   "pygments_lexer": "ipython3",
   "version": "3.9.2"
  }
 },
 "nbformat": 4,
 "nbformat_minor": 5
}
