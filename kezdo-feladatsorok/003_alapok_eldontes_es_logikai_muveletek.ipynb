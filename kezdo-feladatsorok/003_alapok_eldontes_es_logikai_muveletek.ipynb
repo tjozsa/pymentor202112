{
 "cells": [
  {
   "cell_type": "markdown",
   "id": "0017cf76",
   "metadata": {
    "deletable": false,
    "editable": false,
    "nbgrader": {
     "cell_type": "markdown",
     "checksum": "28e41a986e662bff6dc7e5741f4c11ad",
     "grade": false,
     "grade_id": "cell-e2489c9588cc80b7",
     "locked": true,
     "schema_version": 3,
     "solution": false,
     "task": false
    }
   },
   "source": [
    "# 1. feladatsor - logikai műveletek és eldöntés\n",
    "\n",
    "## Boolean értékek\n",
    "\n",
    "Igaz, vagy hamis lesz a következő értékek eredménye?\n",
    "\n",
    "* `megoldas_1`: True and not False\n",
    "* `megoldas_2`: True and not True\n",
    "* `megoldas_3`: True or True and False\n",
    "* `megoldas_4`: not True or not False\n",
    "* `megoldas_5`: True and not 0\n",
    "* `megoldas_6`: 52 < 52.3\n",
    "* `megoldas_7`: 1 + 52 < 52.3\n",
    "* `megoldas_8`: 4 != 4.0\n",
    "\n",
    "A megoldást ilyen formaban írd:\n",
    "`megoldas_1 = True` vagy `megoldas_1 = False`"
   ]
  },
  {
   "cell_type": "code",
   "execution_count": null,
   "id": "bdbb678e",
   "metadata": {
    "deletable": false,
    "nbgrader": {
     "cell_type": "code",
     "checksum": "9cea6c833ba628c9c3b2e9888ff1d2c5",
     "grade": false,
     "grade_id": "cell-8fc684254979027c",
     "locked": false,
     "schema_version": 3,
     "solution": true,
     "task": false
    }
   },
   "outputs": [],
   "source": [
    "megoldas_1 = None\n",
    "megoldas_2 = None\n",
    "megoldas_3 = None\n",
    "megoldas_4 = None\n",
    "megoldas_5 = None\n",
    "megoldas_6 = None\n",
    "megoldas_7 = None\n",
    "megoldas_8 = None\n",
    "\n",
    "# YOUR CODE HERE\n",
    "raise NotImplementedError()"
   ]
  },
  {
   "cell_type": "code",
   "execution_count": null,
   "id": "833b324d",
   "metadata": {
    "deletable": false,
    "editable": false,
    "nbgrader": {
     "cell_type": "code",
     "checksum": "426865d274a22f5848dbc410fa3b4c2c",
     "grade": true,
     "grade_id": "cell-fb154f3fad67a251",
     "locked": true,
     "points": 1,
     "schema_version": 3,
     "solution": false,
     "task": false
    }
   },
   "outputs": [],
   "source": [
    "solution = %solution\n",
    "\n",
    "assert_true(megoldas_1)\n",
    "assert_false(megoldas_2)\n",
    "assert_true(megoldas_3)\n",
    "assert_true(megoldas_4)\n",
    "assert_true(megoldas_5)\n",
    "assert_true(megoldas_6)\n",
    "assert_false(megoldas_7)\n",
    "assert_false(megoldas_8)"
   ]
  },
  {
   "cell_type": "markdown",
   "id": "f6e2e39c",
   "metadata": {
    "deletable": false,
    "editable": false,
    "nbgrader": {
     "cell_type": "markdown",
     "checksum": "5692301c3560692b71aa9c5642e41374",
     "grade": false,
     "grade_id": "cell-3ee8674e7a1faf3b",
     "locked": true,
     "schema_version": 3,
     "solution": false,
     "task": false
    }
   },
   "source": [
    "\n",
    "## Szöveg átírása kóddá\n",
    "Adottak a következő változók:\n",
    "```\n",
    "alma = 12\n",
    "korte = 44\n",
    "barack = 7\n",
    "```\n",
    "\n",
    "A következő köznyelvi kijelentéseket, és írdd át kóddá:\n",
    "\n",
    "* `megoldas_1`: Nagyobb-e az alma és a körte értéke, mint a baracké?\n",
    "* `megoldas_2`: Két barack értéke egyenlő-e egy alma értékével?\n",
    "* `megoldas_3`: Igaz-e, hogy egy körte értékének a fele az 22?\n",
    "* `megoldas_4`: Ha összeszorozuk (alma értéke + 2) és (barack értéke - 3)-at, akkor az eredmény nagyobb lesz-e, mint korte * 3?\n"
   ]
  },
  {
   "cell_type": "code",
   "execution_count": null,
   "id": "6bc47b7a",
   "metadata": {
    "deletable": false,
    "nbgrader": {
     "cell_type": "code",
     "checksum": "08d2bef850187361fbae3bffa0e6401c",
     "grade": false,
     "grade_id": "cell-f8d81787dae71956",
     "locked": false,
     "schema_version": 3,
     "solution": true,
     "task": false
    }
   },
   "outputs": [],
   "source": [
    "solution = %solution\n",
    "\n",
    "alma = 12\n",
    "korte = 44\n",
    "barack = 7\n",
    "megoldas_1 = None\n",
    "megoldas_2 = None\n",
    "megoldas_3 = None\n",
    "megoldas_4 = None\n",
    "\n",
    "# YOUR CODE HERE\n",
    "raise NotImplementedError()\n"
   ]
  },
  {
   "cell_type": "code",
   "execution_count": null,
   "id": "810729b9",
   "metadata": {
    "deletable": false,
    "editable": false,
    "nbgrader": {
     "cell_type": "code",
     "checksum": "fe775d429931b60f6d99a48a56d8aadd",
     "grade": true,
     "grade_id": "cell-97da3be30eab74f9",
     "locked": true,
     "points": 1,
     "schema_version": 3,
     "solution": false,
     "task": false
    }
   },
   "outputs": [],
   "source": [
    "assert_true(megoldas_1)\n",
    "assert_false(megoldas_2)\n",
    "assert_true(megoldas_3)\n",
    "assert_false(megoldas_4)"
   ]
  },
  {
   "cell_type": "markdown",
   "id": "5b640c5f",
   "metadata": {
    "deletable": false,
    "editable": false,
    "nbgrader": {
     "cell_type": "markdown",
     "checksum": "fc91224e09939524e5cf566d833e8e7b",
     "grade": false,
     "grade_id": "cell-323366ec36b3b888",
     "locked": true,
     "schema_version": 3,
     "solution": false,
     "task": false
    }
   },
   "source": [
    "## Egyszerű eldöntés\n",
    "\n",
    "Kérdd be a felhasználótól a pH értékét, és döntd el, hogy savas vagy lúgos a pH? \n",
    "Számszerűen a pH-val jellemezzük\n",
    "\n",
    "* savas: pH < 7\n",
    "* lúgos: pH > 7\n",
    "\n",
    "Ha ez megvan, akkor írdd át úgy, hogy a semleges pH is kezelve legyen.\n",
    "\n",
    "* semleges: pH = 7\n"
   ]
  },
  {
   "cell_type": "code",
   "execution_count": null,
   "id": "3c46591c",
   "metadata": {
    "deletable": false,
    "nbgrader": {
     "cell_type": "code",
     "checksum": "a7a5d1b65af5b77941decfca1cd26df1",
     "grade": false,
     "grade_id": "cell-973a1b08bbace7b7",
     "locked": false,
     "schema_version": 3,
     "solution": true,
     "task": false
    }
   },
   "outputs": [],
   "source": [
    "# YOUR CODE HERE\n",
    "raise NotImplementedError()\n"
   ]
  },
  {
   "cell_type": "code",
   "execution_count": null,
   "id": "1192351c",
   "metadata": {
    "deletable": false,
    "editable": false,
    "nbgrader": {
     "cell_type": "code",
     "checksum": "e3ef8ef5d715fe3c60abb312fa5deddc",
     "grade": true,
     "grade_id": "cell-479dd459e8d05531",
     "locked": true,
     "points": 1,
     "schema_version": 3,
     "solution": false,
     "task": false
    }
   },
   "outputs": [],
   "source": [
    "solution = %solution\n",
    "\n",
    "assert_true(\"semleges\" if ph == 7 else \"lúgos\" if ph > 7 else \"savas\")"
   ]
  },
  {
   "cell_type": "markdown",
   "id": "2d1cf083",
   "metadata": {
    "deletable": false,
    "editable": false,
    "nbgrader": {
     "cell_type": "markdown",
     "checksum": "2fea039129821073cf225f340aef58d7",
     "grade": false,
     "grade_id": "cell-6b55a7733746e607",
     "locked": true,
     "schema_version": 3,
     "solution": false,
     "task": false
    }
   },
   "source": [
    "## Vadkamera\n",
    "\n",
    "Egy vadkamera vezérlője a következő két értéket használja:\n",
    "\n",
    "`light` es `temperature`\n",
    "\n",
    "Ha a `light` kisebb, mint 0.01 lux VAGY a `temperature` fagyáspont felett van, akkor írdd ki, hogy \"snap\".\n",
    "\n",
    "Viszont, ha mindkettő teljesül, akkor ne írjon ki a program semmit."
   ]
  },
  {
   "cell_type": "code",
   "execution_count": null,
   "id": "97afec26",
   "metadata": {
    "deletable": false,
    "nbgrader": {
     "cell_type": "code",
     "checksum": "4076a55322538ea7b0cd19a6074184d1",
     "grade": false,
     "grade_id": "cell-6945751c47523576",
     "locked": false,
     "schema_version": 3,
     "solution": true,
     "task": false
    }
   },
   "outputs": [],
   "source": [
    "light = 0.01\n",
    "temperature = 5\n",
    "\n",
    "# YOUR CODE HERE\n",
    "raise NotImplementedError()"
   ]
  },
  {
   "cell_type": "code",
   "execution_count": null,
   "id": "b1de5e1d",
   "metadata": {
    "deletable": false,
    "editable": false,
    "nbgrader": {
     "cell_type": "code",
     "checksum": "5c015b4a36725f453b01e8b46fbb45d7",
     "grade": true,
     "grade_id": "cell-8e05d38eab9e7e1d",
     "locked": true,
     "points": 0,
     "schema_version": 3,
     "solution": false,
     "task": false
    }
   },
   "outputs": [],
   "source": [
    "solution = %solution\n",
    "\n",
    "assert_equal(solution[0].strip(), \"snap\")"
   ]
  }
 ],
 "metadata": {
  "kernelspec": {
   "display_name": "Python 3",
   "language": "python",
   "name": "python3"
  },
  "language_info": {
   "codemirror_mode": {
    "name": "ipython",
    "version": 3
   },
   "file_extension": ".py",
   "mimetype": "text/x-python",
   "name": "python",
   "nbconvert_exporter": "python",
   "pygments_lexer": "ipython3",
   "version": "3.9.2"
  }
 },
 "nbformat": 4,
 "nbformat_minor": 5
}
