{
 "cells": [
  {
   "cell_type": "markdown",
   "id": "949b9aa0",
   "metadata": {
    "deletable": false,
    "editable": false,
    "nbgrader": {
     "cell_type": "markdown",
     "checksum": "22132fef7535c29af1712ecb571ea767",
     "grade": false,
     "grade_id": "cell-7b80c3bb099cfb4c",
     "locked": true,
     "schema_version": 3,
     "solution": false,
     "task": false
    }
   },
   "source": [
    "# 1. feladatsor - funkciók\n",
    "\n",
    "## Szökőév?\n",
    "Készíts függvényt `is_szokoev` néven, amelyik adott évszámról eldönti, hogy az szökőév-e. Szökőév minden negyedik, nem szökőév minden századik, mégis az minden 400-adik. (2000-ben ezért volt szökőév.) A függvény visszatérési értéke legyen logikai típusú!\n",
    "\n",
    "Tipp( % maradékos osztás operátor)"
   ]
  },
  {
   "cell_type": "code",
   "execution_count": null,
   "id": "d7eaa04a",
   "metadata": {
    "deletable": false,
    "nbgrader": {
     "cell_type": "code",
     "checksum": "4dd6828a0e9b92f32e783b4c53ebb63e",
     "grade": false,
     "grade_id": "cell-a3e8d85db2cd3829",
     "locked": false,
     "schema_version": 3,
     "solution": true,
     "task": false
    }
   },
   "outputs": [],
   "source": [
    "# YOUR CODE HERE\n",
    "raise NotImplementedError()\n",
    "\n",
    "\n",
    "def main_szoko():\n",
    "    print(is_szokoev(2005))\n",
    "    print(is_szokoev(2000))\n",
    "    print(is_szokoev(1980))\n",
    "    print(is_szokoev(1900))\n",
    "\n",
    "main_szoko()"
   ]
  },
  {
   "cell_type": "code",
   "execution_count": null,
   "id": "126d1c3b",
   "metadata": {
    "deletable": false,
    "editable": false,
    "nbgrader": {
     "cell_type": "code",
     "checksum": "037889a08fcdf7106b03826b81371f7a",
     "grade": true,
     "grade_id": "cell-d8bf68236e9f6fa6",
     "locked": true,
     "points": 1,
     "schema_version": 3,
     "solution": false,
     "task": false
    }
   },
   "outputs": [],
   "source": [
    "solution = %solution\n",
    "\n",
    "assert_true('is_szokoev' in locals())\n",
    "assert_false(is_szokoev(2005))\n",
    "assert_true(is_szokoev(2000))\n",
    "assert_true(is_szokoev(1980))\n",
    "assert_false(is_szokoev(1900))"
   ]
  },
  {
   "cell_type": "markdown",
   "id": "bfd0da65",
   "metadata": {
    "deletable": false,
    "editable": false,
    "nbgrader": {
     "cell_type": "markdown",
     "checksum": "dd1a73249dccababd9cada2fe222c2cd",
     "grade": false,
     "grade_id": "cell-6008e892cdb2309b",
     "locked": true,
     "schema_version": 3,
     "solution": false,
     "task": false
    }
   },
   "source": [
    "## Szökőév 2\n",
    "Írj programot, amelyik a felhasználótól 4 évszámot kér, és mindegyikre kiírja, hogy szökőév-e! Használd az előbb megírt függvényt! Például:\n",
    "\n",
    "\n",
    "? 2005\n",
    "\n",
    "Nem szökőév.\n",
    "\n",
    "\n",
    "? 2000\n",
    "\n",
    "Szökőév.\n",
    "\n",
    "\n",
    "? 1980\n",
    "\n",
    "Szökőév.\n",
    "\n",
    "\n",
    "? 1900\n",
    "\n",
    "Nem szökőév."
   ]
  },
  {
   "cell_type": "code",
   "execution_count": null,
   "id": "61472f89",
   "metadata": {
    "deletable": false,
    "nbgrader": {
     "cell_type": "code",
     "checksum": "87be18800855e71904e220da77559e60",
     "grade": false,
     "grade_id": "cell-84721ecb4b633c21",
     "locked": false,
     "schema_version": 3,
     "solution": true,
     "task": false
    }
   },
   "outputs": [],
   "source": [
    "# Itt ha mar az elozo feladatban megirtuk az is_szokoev fuggvenyt, akkor azt tudjuk hivatkozni, nem kell idemasolni\n",
    "\n",
    "# YOUR CODE HERE\n",
    "raise NotImplementedError()"
   ]
  },
  {
   "cell_type": "code",
   "execution_count": null,
   "id": "6da65b42",
   "metadata": {
    "deletable": false,
    "editable": false,
    "nbgrader": {
     "cell_type": "code",
     "checksum": "7a7d680d6b00249e15c22b79dc9825ff",
     "grade": true,
     "grade_id": "cell-0bede469175bd15d",
     "locked": true,
     "points": 1,
     "schema_version": 3,
     "solution": false,
     "task": false
    }
   },
   "outputs": [],
   "source": [
    "solution = %solution\n",
    "\n",
    "assert_true(len(solution) == 4)\n",
    "for i in range(len(solution)):\n",
    "    print(solution[i])\n",
    "    assert_true(solution[i] in [\"Szökőév.\", \"Nem szökőév.\"])"
   ]
  },
  {
   "cell_type": "markdown",
   "id": "5ca6c840",
   "metadata": {
    "deletable": false,
    "editable": false,
    "nbgrader": {
     "cell_type": "markdown",
     "checksum": "eae8e4e983dfa487dc7b8e486768d638",
     "grade": false,
     "grade_id": "cell-9177922672b0d9fe",
     "locked": true,
     "schema_version": 3,
     "solution": false,
     "task": false
    }
   },
   "source": [
    "## „a” betűvel kezdődő sztring\n",
    "Egy olyan függvényt kell írnod, amely paraméterként sztringek listáját kapja, legyen a neve `van_a_kezdetu`. Meg kell vizsgálnia a listában található sztringeket, és megválaszolnia ezt a kérdést:\n",
    "\n",
    "Van-e olyan sztring, amelyik „a” betűvel kezdődik! Ennek is legyen logikai típusú a visszatérési értéke.\n",
    "\n",
    "\n",
    "Ügyelj arra, hogy a függvény helyesen működjön abban az esetben is, ha üres sztring van a listában!\n",
    "\n",
    " Példák:\n",
    "\n",
    "`[\"körte\", \"alma\", \"barack\"]` – van „a” betűvel kezdődő szó.\n",
    "\n",
    "`[\"dinnye\", \"papaja\", \"\", \"zeller\"]` – nincs „a” betűvel kezdődő szó.\n",
    "\n",
    "`[]` – nincs „a” betűvel kezdődő szó.\n"
   ]
  },
  {
   "cell_type": "code",
   "execution_count": null,
   "id": "6307dd6c",
   "metadata": {
    "deletable": false,
    "nbgrader": {
     "cell_type": "code",
     "checksum": "f0149bc5b122cd1d9a7a16da09323056",
     "grade": false,
     "grade_id": "cell-3d41946d709432c4",
     "locked": false,
     "schema_version": 3,
     "solution": true,
     "task": false
    }
   },
   "outputs": [],
   "source": [
    "# YOUR CODE HERE\n",
    "raise NotImplementedError()\n",
    "\n",
    "def main_van_a():\n",
    "    print(van_a_kezdetu([]))\n",
    "    print(van_a_kezdetu(['atest', 'werwer', 'werwersd']))\n",
    "\n",
    "main_van_a()"
   ]
  },
  {
   "cell_type": "code",
   "execution_count": null,
   "id": "bf29d4ff",
   "metadata": {
    "deletable": false,
    "editable": false,
    "nbgrader": {
     "cell_type": "code",
     "checksum": "1df7fd45c87f5b2283685445cee52049",
     "grade": true,
     "grade_id": "cell-e3e4a0a8c8e2be2f",
     "locked": true,
     "points": 1,
     "schema_version": 3,
     "solution": false,
     "task": false
    }
   },
   "outputs": [],
   "source": [
    "solution = %solution\n",
    "\n",
    "assert_false(van_a_kezdetu([]))\n",
    "assert_true(van_a_kezdetu(['atest', 'werwer', 'werwersd']))\n",
    "assert_true(van_a_kezdetu([\"körte\", \"alma\", \"barack\"]))\n",
    "assert_false(van_a_kezdetu([\"dinnye\", \"papaja\", \"\", \"zeller\"]))"
   ]
  },
  {
   "cell_type": "markdown",
   "id": "39455f66",
   "metadata": {},
   "source": [
    "\n",
    "# Madárnyelv\n",
    "Adott az alábbi program, amely madárnyelven (mavadávárnyevelveven) írja ki a beírt szöveget.\n",
    "```python\n",
    "szoveg = input()\n",
    "for c in szoveg:\n",
    "    if c == 'a' or c == 'e' or c == 'i' or c == 'o' or c == 'u':\n",
    "        print(c, 'v', c, sep=\"\", end=\"\")\n",
    "    else:\n",
    "        print(c, end=\"\")\n",
    "```\n",
    "\n",
    "Írj függvényt (legyen a neve `maganhangzo`, amelyik megmondja egy betűről, hogy magánhangzó-e! Alakítsd át úgy a programot, hogy a megírt függvényt használod a main()-ben! A magánhangzós függvény megírható egyetlen egy sorból is (a fejlécén túl, természetesen).\n",
    "\n",
    "\n",
    "Végezz el egy további átalakítást is: a madárnyelvesítés is legyen függvény (legyen a neve `madarnyelv`)! Vagyis írj egy olyan függvényt, amely paraméterként egy sztringet kap, visszatérési értéke is egy sztring; például madarnyelv(\"alma\") == \"avalmava\". (A sztring összeállításához a += operátort tudod használni.) Használd fel ezt a függvényt a main()-ben az eredeti feladat megoldására!\n",
    "\n",
    "\n",
    "Hogyan lehetne megoldani azt, hogy a nagybetűvel kezdődő szavakat is helyesen kezelje a program? Pl. az „Alma” szóra azt kell kiírnia, hogy „Avalmava”. Ehhez fel kell tudnia ismerni a nagybetűvel írt magánhangzókat is. Ugyanakkor az ismételt magánhangzó már a szó közepén van, tehát kisbetűsíteni kell.\n"
   ]
  },
  {
   "cell_type": "code",
   "execution_count": null,
   "id": "b304fb4b",
   "metadata": {
    "deletable": false,
    "nbgrader": {
     "cell_type": "code",
     "checksum": "944484359206892f202bd7ebe8e7a168",
     "grade": false,
     "grade_id": "cell-f72580afa81807d9",
     "locked": false,
     "schema_version": 3,
     "solution": true,
     "task": false
    }
   },
   "outputs": [],
   "source": [
    "# YOUR CODE HERE\n",
    "raise NotImplementedError()\n",
    "\n",
    "def main_madar():\n",
    "    print(madarnyelv(\"Alma\"))\n",
    "    print(madarnyelv(\"Korte\"))\n",
    "    print(madarnyelv(\"Zeller\"))\n",
    "    print(madarnyelv(\"Macskafa\"))\n",
    "\n",
    "main_madar()"
   ]
  },
  {
   "cell_type": "code",
   "execution_count": null,
   "id": "5b76e390",
   "metadata": {
    "deletable": false,
    "editable": false,
    "nbgrader": {
     "cell_type": "code",
     "checksum": "782cd5c88fe8e9cb1b97eded60a51ef7",
     "grade": true,
     "grade_id": "cell-1e4aad7bd58acd1c",
     "locked": true,
     "points": 1,
     "schema_version": 3,
     "solution": false,
     "task": false
    }
   },
   "outputs": [],
   "source": [
    "solution = %solution\n",
    "\n",
    "for i in ['a', 'e', 'i', 'o', 'u']:\n",
    "    assert_true(maganhangzo(i))\n",
    "for i in ['b', 'c', 'd', 'f', 'g', 'h', 'j', 'k', 'l', 'm', 'n', 'p', 'q', 'r', 's', 't', 'v', 'w', 'x', 'y']:\n",
    "    assert_false(maganhangzo(i))\n",
    "\n",
    "assert_equal(\"Avalmava\", madarnyelv(\"Alma\"))\n",
    "assert_equal(\"Kovorteve\", madarnyelv(\"Korte\"))\n",
    "assert_equal(\"Zevellever\", madarnyelv(\"Zeller\"))\n",
    "assert_equal(\"Mavacskavafava\", madarnyelv(\"Macskafa\"))"
   ]
  },
  {
   "cell_type": "markdown",
   "id": "57475860",
   "metadata": {
    "deletable": false,
    "editable": false,
    "nbgrader": {
     "cell_type": "markdown",
     "checksum": "41c323cf1b76d31b52abcf3d60780459",
     "grade": false,
     "grade_id": "cell-1f00cbdefcad6efc",
     "locked": true,
     "schema_version": 3,
     "solution": false,
     "task": false
    }
   },
   "source": [
    "# Eltérő paraméterszámmal hívható függvény\n",
    "A range() függvény három különféle paraméterezéssel hívható:\n",
    "\n",
    "* `range(min, max)`: például a range(1, 5)-ből az 1, 2, 3, 4 számok potyognak ki.\n",
    "* `range(min, max, step)`: adott lépésközzel, például range(0, 5, 2) paraméterek esetén 0, 2, 4.\n",
    "* `range(max)`: egy paraméter esetén a kezdeti érték nulla lesz. Például range(3) esetén 0, 1, 2.\n",
    "\n",
    "Írj függvényt `szamtani` néven, amely egy számtani sorozatot ír ki a képernyőre! A paraméterezése legyen az, mint a `range()` függvényé (figyeljunk arra, hogy `max` helyett a parameter neve legyen `_max`, stb), és pont ugyanazokat a számokat írd ki.\n",
    "\n",
    "A függvény belsejében ne használd a range()-et! A feladat lényege az, hogy lásd, hogyan kell eltérő paraméterszámmal hívható függvényt írni."
   ]
  },
  {
   "cell_type": "code",
   "execution_count": null,
   "id": "4bdc8d24",
   "metadata": {
    "deletable": false,
    "nbgrader": {
     "cell_type": "code",
     "checksum": "03dd4d0d786140fea9a531301d4e21c0",
     "grade": false,
     "grade_id": "cell-5f9008984f9e2f8f",
     "locked": false,
     "schema_version": 3,
     "solution": true,
     "task": false
    }
   },
   "outputs": [],
   "source": [
    "def szamtani(_min=None, _max=None, _step=None):\n",
    "    # YOUR CODE HERE\n",
    "    raise NotImplementedError()\n",
    "\n",
    "def main_range():\n",
    "    print(f'max range {szamtani(_max=10)}')\n",
    "    print(f'min + max range {szamtani(_min=3, _max=10)}')\n",
    "    print(f'min + max + step range {szamtani(_min=3, _max=10, _step=2)}')\n",
    "\n",
    "main_range()"
   ]
  },
  {
   "cell_type": "code",
   "execution_count": null,
   "id": "8b5ede78",
   "metadata": {
    "deletable": false,
    "editable": false,
    "nbgrader": {
     "cell_type": "code",
     "checksum": "fcf79211f35b66a18615b7d1056c358d",
     "grade": true,
     "grade_id": "cell-33a6c9043ac3ebd5",
     "locked": true,
     "points": 1,
     "schema_version": 3,
     "solution": false,
     "task": false
    }
   },
   "outputs": [],
   "source": [
    "solution = %solution\n",
    "\n",
    "assert_equal([0, 1, 2, 3, 4, 5, 6, 7, 8, 9], szamtani(_max=10))\n",
    "assert_equal([3, 4, 5, 6, 7, 8, 9], szamtani(_min=3, _max=10))\n",
    "assert_equal([3, 5, 7, 9], szamtani(_min=3, _max=10, _step=2))"
   ]
  }
 ],
 "metadata": {
  "kernelspec": {
   "display_name": "Python 3",
   "language": "python",
   "name": "python3"
  },
  "language_info": {
   "codemirror_mode": {
    "name": "ipython",
    "version": 3
   },
   "file_extension": ".py",
   "mimetype": "text/x-python",
   "name": "python",
   "nbconvert_exporter": "python",
   "pygments_lexer": "ipython3",
   "version": "3.9.2"
  }
 },
 "nbformat": 4,
 "nbformat_minor": 5
}
