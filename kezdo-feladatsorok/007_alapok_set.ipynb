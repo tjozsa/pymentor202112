{
 "cells": [
  {
   "cell_type": "markdown",
   "id": "949b9aa0",
   "metadata": {
    "deletable": false,
    "editable": false,
    "nbgrader": {
     "cell_type": "markdown",
     "checksum": "ef4a804cb776837ca2c76fb959efb097",
     "grade": false,
     "grade_id": "cell-7b80c3bb099cfb4c",
     "locked": true,
     "schema_version": 3,
     "solution": false,
     "task": false
    }
   },
   "source": [
    "# 1. feladatsor - set\n",
    "## Lista elemek szűrése\n",
    "\n",
    "Adott az alábbi lista\n",
    "\n",
    "`sample_list = [87, 45, 41, 65, 94, 41, 99, 94]`\n",
    "\n",
    "Távolítsuk el a duplikált elemeket belőle és rendezzük növekvő sorrendbe. Írjuk ki az elemeket.\n",
    "\n",
    "Kiírás:\n",
    "* `44 52 53 54 87`\n",
    "\n",
    "Keressük meg a minimum és maximum értéket. Ezeket írjuk ki a képernyőre.\n",
    "\n",
    "Kiírás:\n",
    "* `44`\n",
    "* `87`"
   ]
  },
  {
   "cell_type": "code",
   "execution_count": null,
   "id": "61472f89",
   "metadata": {
    "deletable": false,
    "nbgrader": {
     "cell_type": "code",
     "checksum": "a736e30f6d6446ccaa6d69f31b5db818",
     "grade": false,
     "grade_id": "cell-84721ecb4b633c21",
     "locked": false,
     "schema_version": 3,
     "solution": true,
     "task": false
    }
   },
   "outputs": [],
   "source": [
    "sample_list = [87, 52, 44, 53, 54, 87, 52, 53]\n",
    "# YOUR CODE HERE\n",
    "raise NotImplementedError()"
   ]
  },
  {
   "cell_type": "code",
   "execution_count": null,
   "id": "6da65b42",
   "metadata": {
    "deletable": false,
    "editable": false,
    "nbgrader": {
     "cell_type": "code",
     "checksum": "188802c8b2c6fe7b8cea56c81c86bf39",
     "grade": true,
     "grade_id": "cell-0bede469175bd15d",
     "locked": true,
     "points": 1,
     "schema_version": 3,
     "solution": false,
     "task": false
    }
   },
   "outputs": [],
   "source": [
    "solution = %solution\n",
    "\n",
    "assert_true(len(solution) == 3)\n",
    "assert_equal(solution[0].strip(), \"44 52 53 54 87\")\n",
    "assert_equal(solution[1].strip(), \"44\")\n",
    "assert_equal(solution[2].strip(), \"87\")"
   ]
  },
  {
   "cell_type": "markdown",
   "id": "47a21e4e",
   "metadata": {
    "deletable": false,
    "editable": false,
    "nbgrader": {
     "cell_type": "markdown",
     "checksum": "fef29f330a3c8339bcec77d9e701b6f3",
     "grade": false,
     "grade_id": "cell-1522c269725162cf",
     "locked": true,
     "schema_version": 3,
     "solution": false,
     "task": false
    }
   },
   "source": [
    "## Párok\n",
    "\n",
    "Adott két lista aminek azonos a mérete. Írd ki az összes olyan párt amit a két lista elemeiből lehet alkotni. Csak az egyedi párokat tartsd meg. Az eredményt tárold a `result` változóban!\n",
    "\n",
    "\n",
    "Első lista `[2, 3, 4, 5, 6, 7, 8]`\n",
    "\n",
    "Második lista `[4, 9, 16, 25, 36, 49, 64]`\n",
    "\n",
    "Eredmény `{(6, 36), (8, 64), (4, 16), (5, 25), (3, 9), (7, 49), (2, 4)}`"
   ]
  },
  {
   "cell_type": "code",
   "execution_count": null,
   "id": "0bd0182f",
   "metadata": {
    "deletable": false,
    "nbgrader": {
     "cell_type": "code",
     "checksum": "c4a063c2e72d89a9c8890e4594af3c6f",
     "grade": false,
     "grade_id": "cell-1bc5a980cd583d68",
     "locked": false,
     "schema_version": 3,
     "solution": true,
     "task": false
    }
   },
   "outputs": [],
   "source": [
    "first_list = [2, 3, 4, 5, 6, 7, 8]\n",
    "second_list = [4, 9, 16, 25, 36, 49, 64]\n",
    "result = None\n",
    "# YOUR CODE HERE\n",
    "raise NotImplementedError()\n",
    "print(result)"
   ]
  },
  {
   "cell_type": "code",
   "execution_count": null,
   "id": "aaadb160",
   "metadata": {
    "deletable": false,
    "editable": false,
    "nbgrader": {
     "cell_type": "code",
     "checksum": "adbafde8e6aa9375b9e4b58b0c6093c7",
     "grade": true,
     "grade_id": "cell-4d96a53f5f5e00fb",
     "locked": true,
     "points": 1,
     "schema_version": 3,
     "solution": false,
     "task": false
    }
   },
   "outputs": [],
   "source": [
    "solution = %solution\n",
    "\n",
    "assert_equal(result, {(7, 49), (2, 4), (4, 16), (8, 64), (6, 36), (3, 9), (5, 25)})"
   ]
  }
 ],
 "metadata": {
  "kernelspec": {
   "display_name": "Python 3",
   "language": "python",
   "name": "python3"
  },
  "language_info": {
   "codemirror_mode": {
    "name": "ipython",
    "version": 3
   },
   "file_extension": ".py",
   "mimetype": "text/x-python",
   "name": "python",
   "nbconvert_exporter": "python",
   "pygments_lexer": "ipython3",
   "version": "3.9.2"
  }
 },
 "nbformat": 4,
 "nbformat_minor": 5
}
