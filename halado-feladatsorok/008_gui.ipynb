{
 "cells": [
  {
   "cell_type": "markdown",
   "id": "7e831baa",
   "metadata": {
    "deletable": false,
    "editable": false,
    "nbgrader": {
     "cell_type": "markdown",
     "checksum": "5672bed482dd44151dad78091663205c",
     "grade": false,
     "grade_id": "cell-5375f4ecc23ddd68",
     "locked": true,
     "schema_version": 3,
     "solution": false,
     "task": false
    }
   },
   "source": [
    "# 1. feladatsor - Grafikus felület\n",
    "## Póker\n",
    "\n",
    "Készíts egy Python programot ami az előző modulokban használt Poker paklit használva grafikusan is megjeleniti egy poker hand-et.\n",
    "\n",
    "Használjuk a qt editort, illetve a demoban megsimert modszert arra, hogy megjelenitsd a poker handet.\n",
    "\n",
    "A feladatot nem tudod itt tesztelni. Írd meg külön, és vesd össze a megoldással."
   ]
  },
  {
   "cell_type": "code",
   "execution_count": null,
   "id": "46157bc6",
   "metadata": {
    "deletable": false,
    "editable": false,
    "nbgrader": {
     "cell_type": "code",
     "checksum": "46df3189ab737e71a0b2610d26dcd8ec",
     "grade": false,
     "grade_id": "cell-c6043aebe29386b4",
     "locked": true,
     "schema_version": 3,
     "solution": false,
     "task": false
    }
   },
   "outputs": [],
   "source": [
    "from PyQT5 import QTWidgets, uic\n",
    "import sys\n",
    "import itertools as it\n",
    "import random\n",
    "\n",
    "ranks = ['A', 'K', 'Q', 'J', '10', '9', '8', '7', '6', '5', '4', '3', '2']\n",
    "suits = ['♠','♥','♦','♣']\n",
    "\n",
    "def shuffle(deck):\n",
    "    deck = list(deck)\n",
    "    random.shuffle(deck)\n",
    "    return iter(tuple(deck))\n",
    "\n",
    "def cut(deck,n):\n",
    "    deck1, deck2 = it.tee(deck, 2)\n",
    "    top = it.islice(deck1, n)\n",
    "    bottom = it.islice(deck2, n , None)\n",
    "    return it.chain(top,bottom)\n",
    "\n",
    "def deal(deck, hand_size=5):\n",
    "    iters = [iter(deck)] * hand_size\n",
    "    hands_gen = (next(it.islice(itr, 1)) for itr in iters)\n",
    "    return hands_gen\n",
    "\n",
    "class Ui(QtWidgets.QFrame):\n",
    "    def __init__(self):\n",
    "        super(Ui, self).__init__()\n",
    "        uic.loadUi('basic_poker.ui', self)\n",
    "        self.show()\n",
    "        \n",
    "        self.button = self.findChild(QtWidgets.QPushButton, 'dealer_button')\n",
    "        self.button.clicked.connect(self.deal_hand)\n",
    "        self.hand = self.findChild(QtWidgets.QLabel, 'hand')\n",
    "        \n",
    "    def deal_hand(self):\n",
    "        cards = cut(shuffle(it.product(ranks, suits)), 26)\n",
    "        hand = deal(cards)\n",
    "        card_strings = (\"\".join(pair) for pair in hand)\n",
    "        self.hand.setText(\" \".join(card_strings))\n",
    "        \n",
    "app = QtWidgets.QApplication(sys.argv)\n",
    "windows = Ui()\n",
    "app.exec_()"
   ]
  }
 ],
 "metadata": {
  "kernelspec": {
   "display_name": "Python 3 (ipykernel)",
   "language": "python",
   "name": "python3"
  },
  "language_info": {
   "codemirror_mode": {
    "name": "ipython",
    "version": 3
   },
   "file_extension": ".py",
   "mimetype": "text/x-python",
   "name": "python",
   "nbconvert_exporter": "python",
   "pygments_lexer": "ipython3",
   "version": "3.9.7"
  }
 },
 "nbformat": 4,
 "nbformat_minor": 5
}
