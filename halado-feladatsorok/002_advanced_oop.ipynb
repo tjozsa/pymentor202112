{
 "cells": [
  {
   "cell_type": "markdown",
   "id": "949b9aa0",
   "metadata": {
    "deletable": false,
    "editable": false,
    "nbgrader": {
     "cell_type": "markdown",
     "checksum": "b8f70c2afb7a033e47e1bb15573e7361",
     "grade": false,
     "grade_id": "cell-7b80c3bb099cfb4c",
     "locked": true,
     "schema_version": 3,
     "solution": false,
     "task": false
    }
   },
   "source": [
    "# 1. feladatsor - Dekorátorok\n",
    "\n",
    "## Oszthatóság számolása\n",
    "\n",
    "Készíts egy Python dekorátort `timeit_decorator` néven ami képes lemérni es printelni egy függvény időkomplexitását, azaz azt az időt ami a futtatásához kellett. \n",
    "\n",
    "PL:\n",
    "\n",
    "```\n",
    "@timeit_decorator\n",
    "def comprehension():\n",
    "\n",
    "    return [x**2 for x in range(3000000)]\n",
    "```\n",
    "\n",
    "A kiírás elvárt formája:\n",
    "\n",
    "`FUNCTION_NAME took TIME`\n",
    "\n",
    "\n",
    "`comprehension took 767.8432464599609`\n"
   ]
  },
  {
   "cell_type": "code",
   "execution_count": null,
   "id": "61472f89",
   "metadata": {
    "deletable": false,
    "nbgrader": {
     "cell_type": "code",
     "checksum": "c52577b470dc0f34cc87cc5d1b88fede",
     "grade": false,
     "grade_id": "cell-84721ecb4b633c21",
     "locked": false,
     "schema_version": 3,
     "solution": true,
     "task": false
    }
   },
   "outputs": [],
   "source": [
    "import time\n",
    "\n",
    "# YOUR CODE HERE\n",
    "raise NotImplementedError()\n",
    "\n",
    "@timeit_decorator\n",
    "def comprehension():\n",
    "    return [x**2 for x in range(3000000)]\n",
    "\n",
    "@timeit_decorator\n",
    "def generator():\n",
    "    return (x**2 for x in range(3000000))\n",
    "\n",
    "@timeit_decorator\n",
    "def iter_over(iter):\n",
    "    for _ in iter:\n",
    "        pass\n",
    "\n",
    "    \n",
    "alist = comprehension()\n",
    "iter_over(alist)\n",
    "agenerator = generator()\n",
    "iter_over(agenerator)"
   ]
  },
  {
   "cell_type": "code",
   "execution_count": null,
   "id": "6da65b42",
   "metadata": {
    "deletable": false,
    "editable": false,
    "nbgrader": {
     "cell_type": "code",
     "checksum": "2415fe14e1aca84fe5fa9f274104ead2",
     "grade": true,
     "grade_id": "cell-0bede469175bd15d",
     "locked": true,
     "points": 1,
     "schema_version": 3,
     "solution": false,
     "task": false
    }
   },
   "outputs": [],
   "source": [
    "solution = %solution\n",
    "\n",
    "assert_equal(len(solution), 4)\n",
    "assert_true(\"comprehension took\" in solution[0])\n",
    "assert_true(\"iter_over took\" in solution[1])\n",
    "assert_true(\"generator took\" in solution[2])\n",
    "assert_true(\"iter_over took\" in solution[3])"
   ]
  },
  {
   "cell_type": "markdown",
   "id": "58f8f0e6",
   "metadata": {
    "deletable": false,
    "editable": false,
    "nbgrader": {
     "cell_type": "markdown",
     "checksum": "59d5ebfb5f8b4666c5ca639ad61b5864",
     "grade": false,
     "grade_id": "cell-974592a874ddcf27",
     "locked": true,
     "schema_version": 3,
     "solution": false,
     "task": false
    }
   },
   "source": [
    "## Anonimizáló dekorátor\n",
    "Készíts egy dekorátort `anonimize` néven, ami egy függvény visszatérési értékét anonimizálja, azaz olvashatatlanná teszi, ha a visszatérési érték `str` típusú.\n",
    "Tegye ezt úgy, hogy minden karaktert `#`-é alakít.\n",
    "Pl:\n",
    "    \n",
    "`almafa -> ######`\n",
    "\n",
    "\n"
   ]
  },
  {
   "cell_type": "code",
   "execution_count": null,
   "id": "82a70a18",
   "metadata": {
    "deletable": false,
    "nbgrader": {
     "cell_type": "code",
     "checksum": "edcad29fc5f1907c9ee2fd977075611e",
     "grade": false,
     "grade_id": "cell-5c227f0b8eec859e",
     "locked": false,
     "schema_version": 3,
     "solution": true,
     "task": false
    }
   },
   "outputs": [],
   "source": [
    "import random\n",
    "# YOUR CODE HERE\n",
    "raise NotImplementedError()\n",
    "\n",
    "@anonimize\n",
    "def get_result():\n",
    "    data = [\"alma\", \"kortefa\", \"barack\", \"bananfa\"]\n",
    "    return random.choice(data)\n",
    "\n",
    "\n",
    "print(get_result())"
   ]
  },
  {
   "cell_type": "code",
   "execution_count": null,
   "id": "48e7f231",
   "metadata": {
    "deletable": false,
    "editable": false,
    "nbgrader": {
     "cell_type": "code",
     "checksum": "4281fed8c8b81970c9f30df4d39f7a0b",
     "grade": true,
     "grade_id": "cell-6658e55c4a75eb0e",
     "locked": true,
     "points": 1,
     "schema_version": 3,
     "solution": false,
     "task": false
    }
   },
   "outputs": [],
   "source": [
    "solution = %solution\n",
    "\n",
    "assert_true('#' in get_result())\n",
    "assert_true('#' in get_result())\n",
    "assert_true('#' in get_result())\n",
    "assert_true('#' in get_result())\n",
    "assert_true('#' in get_result())"
   ]
  },
  {
   "cell_type": "markdown",
   "id": "a4df7f37",
   "metadata": {
    "deletable": false,
    "editable": false,
    "nbgrader": {
     "cell_type": "markdown",
     "checksum": "406a838e40ed6f219198fa21ea225982",
     "grade": false,
     "grade_id": "cell-90282ca8e3c2aeef",
     "locked": true,
     "schema_version": 3,
     "solution": false,
     "task": false
    }
   },
   "source": [
    "## Logging dekorátor\n",
    "\n",
    "Írj egy olyan dekorátort `logged` néven, ami egy változó hosszú paraméter listával rendelkező függvényt be tud csomagolni és ki tudja írni a függvény összes paraméterét, nevét, valamint azt, hogy hány paramétere van.\n",
    "\n",
    "Kiírási minta:\n",
    "\n",
    "```python\n",
    "hello(2,4,6)\n",
    "=>\n",
    "you called hello((2, 4, 6))\n",
    "result was 6\n",
    "```"
   ]
  },
  {
   "cell_type": "code",
   "execution_count": null,
   "id": "167794d3",
   "metadata": {
    "deletable": false,
    "nbgrader": {
     "cell_type": "code",
     "checksum": "0ea43c94c6f5ddca51e067ce0dcfed21",
     "grade": false,
     "grade_id": "cell-ab64cbd1a8753849",
     "locked": false,
     "schema_version": 3,
     "solution": true,
     "task": false
    }
   },
   "outputs": [],
   "source": [
    "# YOUR CODE HERE\n",
    "raise NotImplementedError()\n",
    "\n",
    "@logged\n",
    "def hello(*args):\n",
    "    return 3 + len(args)\n",
    "\n",
    "hello(2,4,6)"
   ]
  },
  {
   "cell_type": "code",
   "execution_count": null,
   "id": "09519477",
   "metadata": {
    "deletable": false,
    "editable": false,
    "nbgrader": {
     "cell_type": "code",
     "checksum": "e2aa0f634f7359614045af11ebf2f050",
     "grade": true,
     "grade_id": "cell-be785a9ad12141b5",
     "locked": true,
     "points": 1,
     "schema_version": 3,
     "solution": false,
     "task": false
    }
   },
   "outputs": [],
   "source": [
    "solution = %solution\n",
    "\n",
    "assert_equal(solution[0], \"you called hello((2, 4, 6))\")\n",
    "assert_equal(solution[1], \"result was 6\")\n"
   ]
  },
  {
   "cell_type": "markdown",
   "id": "5ff772fb",
   "metadata": {
    "deletable": false,
    "editable": false,
    "nbgrader": {
     "cell_type": "markdown",
     "checksum": "8518bd6ee45d381cff5c0771e3de92c7",
     "grade": false,
     "grade_id": "cell-4416749fd1faf661",
     "locked": true,
     "schema_version": 3,
     "solution": false,
     "task": false
    }
   },
   "source": [
    "## 2. feladatsor - Haladó objektum orientált programozás\n",
    "\n",
    "Készíts egy Python programot ami az alábbi osztályokat és interface-eket valósítja meg:\n",
    "\n",
    "```ascii\n",
    "    ┌─────────────────────────┐            ┌─────────────────────────┐\n",
    "    │       <<abc.ABC>>       │            │                         │\n",
    "    │          Bird           │            │         Parrot          │\n",
    "    ├─────────────────────────┤            ├─────────────────────────┤\n",
    "    │                         │◄───────────┤                         │\n",
    "    ├─────────────────────────┤            ├─────────────────────────┤\n",
    "    │         *fly()          │            │         *fly()          │\n",
    "    └─────────────────────────┘            └─────────────────────────┘\n",
    "    ┌─────────────────────────┐            ┌─────────────────────────┐\n",
    "    │       <<abc.ABC>>       │            │                         │\n",
    "    │          Hero           │            │        SuperMan         │\n",
    "    ├─────────────────────────┤            ├─────────────────────────┤\n",
    "    │                         │◄───────────┤                         │\n",
    "    ├─────────────────────────┤            ├─────────────────────────┤\n",
    "    │         *fly()          │            │         *fly()          │\n",
    "    ├─────────────────────────┤            ├─────────────────────────┤\n",
    "    │       *use_power()      │            │       *use_power()      │\n",
    "    └─────────────────────────┘            └─────────────────────────┘\n",
    "```\n",
    "\n",
    "Ügyelj rá, hogy a formális interface-t használj.\n",
    "\n",
    "A példa futása az alábbi kimenetet kell adnia:\n",
    "```text\n",
    "slow flyer\n",
    "superpower\n",
    "False\n",
    "False\n",
    "```"
   ]
  },
  {
   "cell_type": "code",
   "execution_count": null,
   "id": "d64ccbc3",
   "metadata": {
    "deletable": false,
    "nbgrader": {
     "cell_type": "code",
     "checksum": "52a4e7323f2e571574f426785321f621",
     "grade": false,
     "grade_id": "cell-959a7afa3ad2a3fa",
     "locked": false,
     "schema_version": 3,
     "solution": true,
     "task": false
    }
   },
   "outputs": [],
   "source": [
    "# YOUR CODE HERE\n",
    "raise NotImplementedError()\n",
    "\n",
    "\n",
    "p = Parrot()\n",
    "\n",
    "p.fly()\n",
    "\n",
    "super_man = SuperMan()\n",
    "\n",
    "super_man.use_power()\n",
    "\n",
    "print(isinstance(p, Hero))\n",
    "\n",
    "print(isinstance(super_man, Bird))"
   ]
  },
  {
   "cell_type": "code",
   "execution_count": null,
   "id": "7e81baa0",
   "metadata": {
    "deletable": false,
    "editable": false,
    "nbgrader": {
     "cell_type": "code",
     "checksum": "ae4abf72d7aa39c10d329d638d6f6365",
     "grade": true,
     "grade_id": "cell-d63bdf5f3da38857",
     "locked": true,
     "points": 1,
     "schema_version": 3,
     "solution": false,
     "task": false
    }
   },
   "outputs": [],
   "source": [
    "solution = %solution\n",
    "\n",
    "assert_false(isinstance(p, Hero))\n",
    "assert_false(isinstance(super_man, Bird))\n",
    "assert_true(isinstance(p, Bird))\n",
    "assert_true(isinstance(super_man, Hero))\n",
    "assert_true(hasattr(super_man, 'use_power'))\n",
    "assert_true(hasattr(super_man, 'fly'))\n",
    "assert_true(hasattr(p, 'fly'))\n",
    "assert_false(hasattr(p, 'use_power'))"
   ]
  },
  {
   "cell_type": "markdown",
   "id": "f416c69f",
   "metadata": {
    "deletable": false,
    "editable": false,
    "nbgrader": {
     "cell_type": "markdown",
     "checksum": "d07e57967a9f8f8528962559cd5b827b",
     "grade": false,
     "grade_id": "cell-ac5c424234b04eb7",
     "locked": true,
     "schema_version": 3,
     "solution": false,
     "task": false
    }
   },
   "source": [
    "## 3. feladatsor - többszörös öröklődés\n",
    "Készíts el egy Python programot ami az alábbi objektum hierarchiát és működést valósítja meg:\n",
    "\n",
    "```ascii\n",
    "                         +---------------------------+\n",
    "                         |          Address          |    +---------------------------+\n",
    "                         +---------------------------+    |          Person           |\n",
    "                         |          street           |    +---------------------------+\n",
    "                         |           city            |    |                           |\n",
    "                         +---------------------------+    +---------------------------+\n",
    "                         |__init__(street, city)     |    |__init__(name, email)      |\n",
    "                         |show()                     |    |show()                     |\n",
    "                         +-------------+-------------+    +-------------------+-------+\n",
    "                                       |                                      |\n",
    "                                       |                                      |\n",
    "                                       |                                      |\n",
    "                                       |                                      |\n",
    "                                       |                                      |\n",
    "+---------------------------+          +>+-----------------------------+<-----+\n",
    "|         Notebook          |            |         Contact             |\n",
    "+------------------------+--+  1   0..1  +-----------------------------+\n",
    "|    people:dict(Contact)|+++----------->|                             |\n",
    "+------------------------+--+            +-----------------------------+\n",
    "|add(name, email, street,   |            |__init__(name, email, street,|\n",
    "|    city)                  |            |         city)               |\n",
    "|show(name)                 |            |show()                       |\n",
    "+---------------------------+            +-----------------------------+\n",
    "```\n",
    "\n",
    "A többes öröklődés a Contact, Address és Person objektumok között áll fenn. A teszteléshez egy Notebook osztályt készíts ami használja a Contact osztályt. Tárold a ”people” nevű példány változóban a Contact-otkat. Ez legyen egy dict. A show metódus a Notebookon legyen képes megjeleníteni az egyes Contact-okat név alapján.\n",
    "\n",
    "Elvárt kimenet:\n",
    "\n",
    "```text\n",
    "Alice <al@kth.se>\n",
    "Lv 24\n",
    "Sthlm\n",
    "\n",
    "Unknown Carol\n",
    "```"
   ]
  },
  {
   "cell_type": "code",
   "execution_count": null,
   "id": "fb823ab6",
   "metadata": {
    "deletable": false,
    "nbgrader": {
     "cell_type": "code",
     "checksum": "1f4a079c6f940ebad8b0c5491f5c4dd9",
     "grade": false,
     "grade_id": "cell-8212d83c0e0ccc47",
     "locked": false,
     "schema_version": 3,
     "solution": true,
     "task": false
    }
   },
   "outputs": [],
   "source": [
    "# YOUR CODE HERE\n",
    "raise NotImplementedError()\n",
    "notes = Notebook()\n",
    "notes.add('Alice', '<al@kth.se>', 'Lv 24', 'Sthlm')\n",
    "notes.add('Bob', '<bb@kth.se>', 'Rtb 35', 'Sthlm')\n",
    "\n",
    "notes.show('Alice')\n",
    "notes.show('Carol')"
   ]
  },
  {
   "cell_type": "code",
   "execution_count": null,
   "id": "984b6d95",
   "metadata": {
    "deletable": false,
    "editable": false,
    "nbgrader": {
     "cell_type": "code",
     "checksum": "f2513fff00636de4a816ec5231d79ed4",
     "grade": true,
     "grade_id": "cell-ab973b6234b288bc",
     "locked": true,
     "points": 1,
     "schema_version": 3,
     "solution": false,
     "task": false
    }
   },
   "outputs": [],
   "source": [
    "solution = %solution\n",
    "\n",
    "assert_true(type(notes.people) == dict)\n",
    "assert_true(type(notes.people['Alice']) == Contact)\n",
    "assert_true(isinstance(notes.people['Alice'],Person))\n",
    "assert_true(isinstance(notes.people['Alice'],Address))"
   ]
  }
 ],
 "metadata": {
  "kernelspec": {
   "display_name": "Python 3",
   "language": "python",
   "name": "python3"
  },
  "language_info": {
   "codemirror_mode": {
    "name": "ipython",
    "version": 3
   },
   "file_extension": ".py",
   "mimetype": "text/x-python",
   "name": "python",
   "nbconvert_exporter": "python",
   "pygments_lexer": "ipython3",
   "version": "3.9.2"
  }
 },
 "nbformat": 4,
 "nbformat_minor": 5
}
