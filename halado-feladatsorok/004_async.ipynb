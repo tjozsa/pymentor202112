{
 "cells": [
  {
   "cell_type": "markdown",
   "id": "7e831baa",
   "metadata": {
    "deletable": false,
    "editable": false,
    "nbgrader": {
     "cell_type": "markdown",
     "checksum": "c17d6cb27eaefe6d98dd4a7d53d75375",
     "grade": false,
     "grade_id": "cell-5375f4ecc23ddd68",
     "locked": true,
     "schema_version": 3,
     "solution": false,
     "task": false
    }
   },
   "source": [
    "# 1. feladatsor - Asszinkron programozás\n",
    "## Chat program szerver és kliens\n",
    "\n",
    "Készíts egy Python chat alkalmazást asyncio segitségével. Legyen külon egy kliens és egy sever modul. Tetszőleges üzenettel lehessen bontani a kapcsolatot. A chat üzenetekete a szerver és a kliens is a saját szemszögéből jelenítse meg.\n",
    "\n",
    "Ezeket a feladatokat nem tudod ebben a környezetben futtatni. A kódot külön fájlokban írd be saját környezetben, és vesd össze az itt található megoldással."
   ]
  },
  {
   "cell_type": "code",
   "execution_count": null,
   "id": "95f41ca7",
   "metadata": {
    "deletable": false,
    "nbgrader": {
     "cell_type": "code",
     "checksum": "e86eb5ed5ed6bf9472c7a79f1b34099f",
     "grade": true,
     "grade_id": "cell-9897d952a40b410e",
     "locked": false,
     "points": 0,
     "schema_version": 3,
     "solution": true,
     "task": false
    }
   },
   "outputs": [],
   "source": [
    "# YOUR CODE HERE\n",
    "raise NotImplementedError()"
   ]
  },
  {
   "cell_type": "code",
   "execution_count": null,
   "id": "90ec803a",
   "metadata": {
    "deletable": false,
    "nbgrader": {
     "cell_type": "code",
     "checksum": "9e5e4a5af7139b00f0578bbf525a432b",
     "grade": true,
     "grade_id": "cell-82217a505b64d24e",
     "locked": false,
     "points": 0,
     "schema_version": 3,
     "solution": true,
     "task": false
    }
   },
   "outputs": [],
   "source": [
    "# YOUR CODE HERE\n",
    "raise NotImplementedError()"
   ]
  },
  {
   "cell_type": "markdown",
   "id": "059768e9",
   "metadata": {
    "deletable": false,
    "editable": false,
    "nbgrader": {
     "cell_type": "markdown",
     "checksum": "5f5721c1aed1a59cc25a6bee041b4919",
     "grade": false,
     "grade_id": "cell-9624a543ddb88ce9",
     "locked": true,
     "schema_version": 3,
     "solution": false,
     "task": false
    }
   },
   "source": [
    "# 2. feladatsor - RXPY reaktív programozás\n",
    "## Tőzsdei vevő jelző\n",
    "\n",
    "Készíts Python alkalmazást, ami az RxPy modul használatával valósít meg egy egyszerű tőzsdei vevő jelző rendszert.\n",
    "\n",
    "Legyen egy listád a különböző részvényekről:\n",
    "```python\n",
    "stocks = [\n",
    "{ 'TCKR' : 'APPL', 'PRICE': 200},\n",
    "{ 'TCKR' : 'GOOG', 'PRICE': 90},\n",
    "{ 'TCKR' : 'TSLA', 'PRICE': 120},\n",
    "{ 'TCKR' : 'MSFT', 'PRICE': 150},\n",
    "{ 'TCKR' : 'INTL', 'PRICE': 70},\n",
    "]\n",
    "```\n",
    "\n",
    "Készíts ebből egy observable forrást. A forrás küldjön instrukciókat a feliratkozottaknak (observer függvény) de csak akkor ha a részvény árfolyam éppen 100 USD felett van.\n",
    "\n",
    "Az observer függvényed és így a programod is ilyen kimenetet kell adjon:\n",
    "```text\n",
    "Received Instruction to buy APPL\n",
    "\n",
    "Received Instruction to buy TSLA\n",
    "\n",
    "Received Instruction to buy MSFT\n",
    "\n",
    "All Buy Instructions have been received\n",
    "\n",
    "```"
   ]
  },
  {
   "cell_type": "code",
   "execution_count": null,
   "id": "743f545d",
   "metadata": {
    "deletable": false,
    "nbgrader": {
     "cell_type": "code",
     "checksum": "4af1fe010572609fcdbe1158e0969fcc",
     "grade": false,
     "grade_id": "cell-9fa7d20a5c2a5066",
     "locked": false,
     "schema_version": 3,
     "solution": true,
     "task": false
    }
   },
   "outputs": [],
   "source": [
    "# YOUR CODE HERE\n",
    "raise NotImplementedError()"
   ]
  },
  {
   "cell_type": "code",
   "execution_count": null,
   "id": "8e84b5e7",
   "metadata": {
    "deletable": false,
    "editable": false,
    "nbgrader": {
     "cell_type": "code",
     "checksum": "b9d31ef469a2bfa85126dd584e82de28",
     "grade": true,
     "grade_id": "cell-bd3e30a89ae3fbb3",
     "locked": true,
     "points": 1,
     "schema_version": 3,
     "solution": false,
     "task": false
    }
   },
   "outputs": [],
   "source": [
    "solution = %solution\n",
    "\n",
    "assert_equal(solution, ['Received instruction to buy APPL', 'Received instruction to buy TSLA', 'Received instruction to buy MSFT', 'All buy instructions have been received'])"
   ]
  }
 ],
 "metadata": {
  "kernelspec": {
   "display_name": "Python 3",
   "language": "python",
   "name": "python3"
  },
  "language_info": {
   "codemirror_mode": {
    "name": "ipython",
    "version": 3
   },
   "file_extension": ".py",
   "mimetype": "text/x-python",
   "name": "python",
   "nbconvert_exporter": "python",
   "pygments_lexer": "ipython3",
   "version": "3.9.2"
  }
 },
 "nbformat": 4,
 "nbformat_minor": 5
}
