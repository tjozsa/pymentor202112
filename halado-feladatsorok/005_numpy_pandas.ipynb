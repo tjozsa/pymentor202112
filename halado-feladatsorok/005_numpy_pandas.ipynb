{
 "cells": [
  {
   "cell_type": "markdown",
   "id": "7e831baa",
   "metadata": {
    "deletable": false,
    "editable": false,
    "nbgrader": {
     "cell_type": "markdown",
     "checksum": "814f00536c0e3275835f13c13d8a0cb9",
     "grade": false,
     "grade_id": "cell-5375f4ecc23ddd68",
     "locked": true,
     "schema_version": 3,
     "solution": false,
     "task": false
    }
   },
   "source": [
    "# 1. feladatsor - Numpy\n",
    "## Áfa számolás\n",
    "\n",
    "Készíts egy Python programot ami kiszámítja nagyon sok tétel áfa tartalmát. Oldd meg NumPy tömbök segítségével és egyetlen egy műveletben.\n",
    "\n",
    "Használd:\n",
    "```python\n",
    "prices = np.array([92576.45739419,95857.75423288,71493.65061907,59923.55418634, 42067.67979619,8363.08886153,20471.9374097,35454.27570623,44773.20512158,46698.53904656])\n",
    "```\n",
    "\n",
    "Áfa (Áru Forgalmi Adó), melynek kulcsa legyen 27%.\n",
    "\n",
    "Az Áfa tartalom meghatározására a képlet:\n",
    "`netto_ar * afa_kulcs`\n",
    "\n",
    "Az eredményt tárold el a `vat_amount` változóban.\n",
    "\n",
    "\n",
    "Bonusz feladat: össze tudod kapcsolni egy numpy array-be a nettó ár és az áfa tartalom oszlopokat? (tipp np.column_stack)\n",
    "\n",
    "Az eredményt tárold el a `result` változóban."
   ]
  },
  {
   "cell_type": "code",
   "execution_count": null,
   "id": "95f41ca7",
   "metadata": {
    "deletable": false,
    "nbgrader": {
     "cell_type": "code",
     "checksum": "0d72851f9daf3069a3894fecdb7ad4c7",
     "grade": false,
     "grade_id": "cell-9897d952a40b410e",
     "locked": false,
     "schema_version": 3,
     "solution": true,
     "task": false
    }
   },
   "outputs": [],
   "source": [
    "import numpy as np\n",
    "np.set_printoptions(precision=2)\n",
    "\n",
    "prices = np.array([92576.45739419,95857.75423288,71493.65061907,59923.55418634, 42067.67979619,8363.08886153,20471.9374097,35454.27570623,44773.20512158,46698.53904656])\n",
    "result = None\n",
    "vat_amount = None\n",
    "# YOUR CODE HERE\n",
    "raise NotImplementedError()\n",
    "print(vat_amount)\n",
    "print(result)"
   ]
  },
  {
   "cell_type": "code",
   "execution_count": null,
   "id": "0532d2ef",
   "metadata": {
    "deletable": false,
    "editable": false,
    "nbgrader": {
     "cell_type": "code",
     "checksum": "1c5f5ffa4e0732ff04657068aea38500",
     "grade": true,
     "grade_id": "cell-b99080c958e396ff",
     "locked": true,
     "points": 1,
     "schema_version": 3,
     "solution": false,
     "task": false
    }
   },
   "outputs": [],
   "source": [
    "solution = %solution\n",
    "check_data = np.array([24995.64,25881.59,19303.29,16179.36,11358.27,2258.03,5527.42,9572.65,12088.77,12608.61])\n",
    "assert_true(all(np.isclose(vat_amount, check_data)))"
   ]
  },
  {
   "cell_type": "markdown",
   "id": "059768e9",
   "metadata": {
    "deletable": false,
    "editable": false,
    "nbgrader": {
     "cell_type": "markdown",
     "checksum": "2ed69a19862cea90a3f80b42e622db47",
     "grade": false,
     "grade_id": "cell-9624a543ddb88ce9",
     "locked": true,
     "schema_version": 3,
     "solution": false,
     "task": false
    }
   },
   "source": [
    "# 2. feladatsor - PANDAS dataframe feladat\n",
    "## Időjárás\n",
    "\n",
    "Töltsd le a met.hu napi időjárási adatait tartalmazó adatforrást innen:\n",
    "\n",
    "https://www.met.hu/downloads.php?id=12&file=eghajlati_adatsor_1901-2019+&no=Budapest\n",
    "\n",
    "Adatmagyarázat: https://www.met.hu/eghajlat/magyarorszag_eghajlata/eghajlati_adatsorok/Budapest/adatok/napi_adatok/index.php       \n",
    "\n",
    "Válaszold meg a következő kérdést Pandas modul segítségével:\n",
    "\n",
    "Hány olyan nyári nap volt az 1920tól amikor 35 c feletti hőmérsékletet mértek? Printeld a megoldást."
   ]
  },
  {
   "cell_type": "code",
   "execution_count": null,
   "id": "743f545d",
   "metadata": {
    "deletable": false,
    "nbgrader": {
     "cell_type": "code",
     "checksum": "8ef05baef3fbbd58d5ae4fa7e8966d08",
     "grade": false,
     "grade_id": "cell-9fa7d20a5c2a5066",
     "locked": false,
     "schema_version": 3,
     "solution": true,
     "task": false
    }
   },
   "outputs": [],
   "source": [
    "import pandas as pd\n",
    "df = pd.read_csv('./BP_d.txt', sep=';')\n",
    "df.columns = ['dátum', 'közép_hőmérséklet', 'max_hőmérséklet', 'min_hőmérséklet', 'csap_összeg', 'csap_fajtája', 'napfény_tartam', 'sugárzás']\n",
    "\n",
    "# YOUR CODE HERE\n",
    "raise NotImplementedError()"
   ]
  },
  {
   "cell_type": "code",
   "execution_count": null,
   "id": "8e84b5e7",
   "metadata": {
    "deletable": false,
    "editable": false,
    "nbgrader": {
     "cell_type": "code",
     "checksum": "4b4ac7ae2ebb0fe90f0c8fa28cc76e0c",
     "grade": true,
     "grade_id": "cell-bd3e30a89ae3fbb3",
     "locked": true,
     "points": 1,
     "schema_version": 3,
     "solution": false,
     "task": false
    }
   },
   "outputs": [],
   "source": [
    "solution = %solution\n",
    "\n",
    "assert_equal(int(solution[0]), 239)"
   ]
  }
 ],
 "metadata": {
  "kernelspec": {
   "display_name": "Python 3",
   "language": "python",
   "name": "python3"
  },
  "language_info": {
   "codemirror_mode": {
    "name": "ipython",
    "version": 3
   },
   "file_extension": ".py",
   "mimetype": "text/x-python",
   "name": "python",
   "nbconvert_exporter": "python",
   "pygments_lexer": "ipython3",
   "version": "3.9.2"
  }
 },
 "nbformat": 4,
 "nbformat_minor": 5
}
