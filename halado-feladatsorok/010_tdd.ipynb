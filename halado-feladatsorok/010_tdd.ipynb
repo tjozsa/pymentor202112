{
 "cells": [
  {
   "cell_type": "markdown",
   "id": "7e831baa",
   "metadata": {
    "deletable": false,
    "editable": false,
    "nbgrader": {
     "cell_type": "markdown",
     "checksum": "214e24851011a13783b809f488432055",
     "grade": false,
     "grade_id": "cell-5375f4ecc23ddd68",
     "locked": true,
     "schema_version": 3,
     "solution": false,
     "task": false
    }
   },
   "source": [
    "# 1. feladatsor - Tesztelés, TDD\n",
    "## Kalkulátor további tesztelése\n",
    "\n",
    "\n",
    "Bővítsd ki a kalkulátort, úgy, hogy az alábbi követelményeket teljesítse:\n",
    "\n",
    "- Lehessen, 2 db szám különbségét megállapítani\n",
    "- Lehessen, 2 szám szorzatát megállapítani\n",
    "- Lehessen, hatványozni. A hatványozás a szorzáson alapuljon.\n",
    "- Bővítsük ki a szorzást, hogy lehessen akárhány számot össze szorozni.\n",
    "\n",
    "Megoldásodnál törekedj a TDD szabályainak követésére:\n",
    "\n",
    "- Előbb a tesztet írd meg, minden követelményre külön-külön\n",
    "- Aztán a funkcionalitást alakítsd át úgy, hogy a többi teszt lehetőleg ne romoljon el. Ha elromlik akkor folyamatosan javítsd meg az eltört teszteket.\n",
    "- Majd, ha még van rá időd, jöhet a szépítgetés.\n",
    "\n"
   ]
  },
  {
   "cell_type": "code",
   "execution_count": null,
   "id": "1bf3a21d",
   "metadata": {
    "deletable": false,
    "editable": false,
    "nbgrader": {
     "cell_type": "code",
     "checksum": "01a8ba82034ed1c6f1c67aedea09686b",
     "grade": false,
     "grade_id": "cell-f3e2f5c07a0942f1",
     "locked": true,
     "schema_version": 3,
     "solution": false,
     "task": false
    }
   },
   "outputs": [],
   "source": [
    "class Calculator:\n",
    "    def sum(self, a, b, *args):\n",
    "        return a + b + sum(args)\n",
    "    "
   ]
  },
  {
   "cell_type": "code",
   "execution_count": null,
   "id": "2211b90e",
   "metadata": {
    "deletable": false,
    "editable": false,
    "nbgrader": {
     "cell_type": "code",
     "checksum": "b1bb8e84e86aecaedb499b2f849b2d32",
     "grade": false,
     "grade_id": "cell-bbd134dac487ca76",
     "locked": true,
     "schema_version": 3,
     "solution": false,
     "task": false
    }
   },
   "outputs": [],
   "source": [
    "import unittest\n",
    "\n",
    "class BasicCalcTests(unittest.TestCase):\n",
    "    def setUp(self):\n",
    "        self.calc = Calculator()\n",
    "        \n",
    "    def tearDown(self):\n",
    "        self.calc = None\n",
    "        \n",
    "    def test_sum_of_2(self):\n",
    "        calc = Calculator()\n",
    "        result = calc.sum(2, 3)\n",
    "        self.assertEqual(5, result)\n",
    "        \n",
    "    def test_sum_3_int(self):\n",
    "        self.assertEqual(6, self.calc.sum(2,2,2))"
   ]
  },
  {
   "cell_type": "code",
   "execution_count": null,
   "id": "67d8fdfd",
   "metadata": {
    "deletable": false,
    "nbgrader": {
     "cell_type": "code",
     "checksum": "1943abffe545bc888c60ac1b5105f2fc",
     "grade": true,
     "grade_id": "cell-cb623efde0efa1c3",
     "locked": false,
     "points": 0,
     "schema_version": 3,
     "solution": true,
     "task": false
    }
   },
   "outputs": [],
   "source": [
    "class Calculator:\n",
    "    def sum(self, a, b, *args):\n",
    "        return a + b + sum(args)\n",
    "    \n",
    "    def sub(self, a, b):\n",
    "        # YOUR CODE HERE\n",
    "        raise NotImplementedError()\n",
    "    \n",
    "    def prod(self, a, b, *args):\n",
    "        # YOUR CODE HERE\n",
    "        raise NotImplementedError()\n",
    "    \n",
    "    def pow(self, a, b):\n",
    "        # YOUR CODE HERE\n",
    "        raise NotImplementedError()"
   ]
  },
  {
   "cell_type": "code",
   "execution_count": null,
   "id": "dab6ef46",
   "metadata": {
    "deletable": false,
    "nbgrader": {
     "cell_type": "code",
     "checksum": "229878082bff98e2184a41352c9bb277",
     "grade": true,
     "grade_id": "cell-d6227cb5c3cafb27",
     "locked": false,
     "points": 1,
     "schema_version": 3,
     "solution": true,
     "task": false
    }
   },
   "outputs": [],
   "source": [
    "import unittest\n",
    "\n",
    "class BasicCalcTests(unittest.TestCase):\n",
    "    def setUp(self):\n",
    "        self.calc = Calculator()\n",
    "        \n",
    "    def tearDown(self):\n",
    "        self.calc = None\n",
    "        \n",
    "    def test_sum_of_2(self):\n",
    "        calc = Calculator()\n",
    "        result = calc.sum(2, 3)\n",
    "        self.assertEqual(5, result)\n",
    "        \n",
    "    def test_sum_3_int(self):\n",
    "        self.assertEqual(6, self.calc.sum(2,2,2))\n",
    "        \n",
    "    # YOUR CODE HERE\n",
    "    raise NotImplementedError()\n",
    "        "
   ]
  }
 ],
 "metadata": {
  "kernelspec": {
   "display_name": "Python 3 (ipykernel)",
   "language": "python",
   "name": "python3"
  },
  "language_info": {
   "codemirror_mode": {
    "name": "ipython",
    "version": 3
   },
   "file_extension": ".py",
   "mimetype": "text/x-python",
   "name": "python",
   "nbconvert_exporter": "python",
   "pygments_lexer": "ipython3",
   "version": "3.9.7"
  }
 },
 "nbformat": 4,
 "nbformat_minor": 5
}
