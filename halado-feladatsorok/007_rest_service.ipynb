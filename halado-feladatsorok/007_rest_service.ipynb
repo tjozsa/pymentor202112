{
 "cells": [
  {
   "cell_type": "markdown",
   "id": "7e831baa",
   "metadata": {
    "deletable": false,
    "editable": false,
    "nbgrader": {
     "cell_type": "markdown",
     "checksum": "9cb15fbdd823c6f4fa65aa1e4762c51a",
     "grade": false,
     "grade_id": "cell-5375f4ecc23ddd68",
     "locked": true,
     "schema_version": 3,
     "solution": false,
     "task": false
    }
   },
   "source": [
    "# 1. feladatsor - REST szolgáltatások\n",
    "## Postman használat\n",
    "\n",
    "A Postman alkalmazás segítségével fedezd fel a httpbin.org teszt szervizt. Futtass GET, POST, PUT és DELETE hívásokat és vizsgáld meg az eredményüket.\n",
    "\n",
    "A feladatot nem itt kell megoldanod, hanem a Postman alkalmazással."
   ]
  },
  {
   "cell_type": "markdown",
   "id": "059768e9",
   "metadata": {
    "deletable": false,
    "editable": false,
    "nbgrader": {
     "cell_type": "markdown",
     "checksum": "b70c0e7ca7415e3dacfe1c89afaf7ed3",
     "grade": false,
     "grade_id": "cell-9624a543ddb88ce9",
     "locked": true,
     "schema_version": 3,
     "solution": false,
     "task": false
    }
   },
   "source": [
    "## Flask szerver\n",
    "\n",
    "Készíts egy egyszerű Flask alapú időjárás szerviz-t. Használd a met.hu-rol letöltött adatokat.\n",
    "\n",
    "https://www.met.hu/downloads.php?id=12&file=eghajlati_adatsor_1901-2019+&no=Budapest\n",
    "\n",
    "Legyen egy GET végpont ahol adott napra vonatkozóan meg lehet kérdezni az adott napon rögzített adatokat. Az adatok JSON formában kerüljenek átadásra.\n",
    "\n",
    "\n",
    "A feladatot nem tudod itt tesztelni. Írd meg külön, és vesd össze a megoldással."
   ]
  },
  {
   "cell_type": "code",
   "execution_count": null,
   "id": "46157bc6",
   "metadata": {
    "deletable": false,
    "editable": false,
    "nbgrader": {
     "cell_type": "code",
     "checksum": "308ff89fa67f5c3f19a5630856069f33",
     "grade": false,
     "grade_id": "cell-c6043aebe29386b4",
     "locked": true,
     "schema_version": 3,
     "solution": false,
     "task": false
    }
   },
   "outputs": [],
   "source": [
    "import pandas as pd\n",
    "from flask import Flask\n",
    "\n",
    "app = Flask(__name__)\n",
    "\n",
    "def prepare_data():\n",
    "    data = pd.read_csv('BP_d.txt', ';')\n",
    "    data.columns = ['dátum', 'közép_hőmérséklet', 'max_hőmérséklet', 'min_hőmérséklet', 'csap_összeg', 'csap_fajtája', 'napfény_tartam', 'sugárzás']\n",
    "    data = data.fillna(value=0.0)\n",
    "    return data\n",
    "\n",
    "def met_for_date(in_date):\n",
    "    day_met_data = data[data['date'] == in_date]\n",
    "    if not day_met_data.empty:\n",
    "        return day_met_data.to_dict('records')[0]\n",
    "    else:\n",
    "        raise ValueError('No data for the given date')\n",
    "        \n",
    "data = prepare_data()\n",
    "\n",
    "error = {'error': 'No data for the given date'}\n",
    "\n",
    "\n",
    "@app.route('/api/met/budapest/<string:in_date>', methods=['GET'])\n",
    "def get_met_data(in_date):\n",
    "    try:\n",
    "        met_data = met_for_date(in_date)\n",
    "        return met_data\n",
    "    except ValueError as e:\n",
    "        print(f'Error occured for date: {in_date} \\n\\n{e}')\n",
    "        return error\n",
    "\n",
    "if __name__ == '__main__':\n",
    "    app.run(debug=True)"
   ]
  }
 ],
 "metadata": {
  "kernelspec": {
   "display_name": "Python 3 (ipykernel)",
   "language": "python",
   "name": "python3"
  },
  "language_info": {
   "codemirror_mode": {
    "name": "ipython",
    "version": 3
   },
   "file_extension": ".py",
   "mimetype": "text/x-python",
   "name": "python",
   "nbconvert_exporter": "python",
   "pygments_lexer": "ipython3",
   "version": "3.9.7"
  }
 },
 "nbformat": 4,
 "nbformat_minor": 5
}
